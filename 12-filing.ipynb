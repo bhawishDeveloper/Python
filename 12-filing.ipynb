{
 "cells": [
  {
   "cell_type": "code",
   "execution_count": null,
   "metadata": {},
   "outputs": [],
   "source": [
    "# # f = open(filename, mode)\n",
    "# r - read \n",
    "# w - write \n",
    "# a - append mode, it wont override, if the file is not ava it will create another file \n",
    "# r+ - read and write in the file, it wont delete existing data \n",
    "# w+ - to write and read data, it will override existing data \n",
    "# a+ - to append and read data from the file. it wont override existing data. \n",
    "# x - to open a file in creation mode for writing. if file already exists we will get FileExistsError \n"
   ]
  },
  {
   "cell_type": "code",
   "execution_count": null,
   "metadata": {},
   "outputs": [],
   "source": [
    "# f = open('test.txt', r)\n",
    "# f.close()"
   ]
  },
  {
   "cell_type": "code",
   "execution_count": 1,
   "metadata": {},
   "outputs": [
    {
     "name": "stdout",
     "output_type": "stream",
     "text": [
      "File Name:  abc.txt\n",
      "File Mode:  w\n",
      "is file readable:  False\n",
      "is file writeable:  True\n",
      "is file closed:  False\n",
      "is file closed:  True\n"
     ]
    }
   ],
   "source": [
    "f = open('abc.txt','w')\n",
    "print('File Name: ', f.name)\n",
    "print('File Mode: ', f.mode)\n",
    "print('is file readable: ', f.readable())\n",
    "print('is file writeable: ', f.writable())\n",
    "print('is file closed: ', f.closed)\n",
    "f.close()\n",
    "print('is file closed: ', f.closed)"
   ]
  },
  {
   "cell_type": "code",
   "execution_count": 11,
   "metadata": {},
   "outputs": [
    {
     "name": "stdout",
     "output_type": "stream",
     "text": [
      "Data is written to file successfully\n"
     ]
    }
   ],
   "source": [
    "f = open('abcd.txt', 'w')\n",
    "f.write('Raj\\n')\n",
    "f.write('is\\n')\n",
    "f.write('data\\n')\n",
    "f.write('Analyst\\n')\n",
    "print('Data is written to file successfully')\n",
    "f.close()"
   ]
  },
  {
   "cell_type": "code",
   "execution_count": 12,
   "metadata": {},
   "outputs": [
    {
     "name": "stdout",
     "output_type": "stream",
     "text": [
      "Raj\n",
      "\n",
      "is\n",
      "\n",
      "data\n",
      "\n",
      "Analyst\n",
      "\n"
     ]
    }
   ],
   "source": [
    "f = open('abcd.txt', 'r')\n",
    "data = f.read()\n",
    "print(data)\n",
    "f.close()"
   ]
  },
  {
   "cell_type": "markdown",
   "metadata": {},
   "source": [
    "Append Mode "
   ]
  },
  {
   "cell_type": "code",
   "execution_count": 13,
   "metadata": {},
   "outputs": [
    {
     "name": "stdout",
     "output_type": "stream",
     "text": [
      "List of lines written to file successfully\n"
     ]
    }
   ],
   "source": [
    "f = open('abcd.txt', 'a')\n",
    "lst = ['this\\n', 'is\\n', 'python\\n', 'class\\n']\n",
    "f.writelines(lst)\n",
    "print('List of lines written to file successfully')\n",
    "f.close()"
   ]
  },
  {
   "cell_type": "code",
   "execution_count": 15,
   "metadata": {},
   "outputs": [
    {
     "name": "stdout",
     "output_type": "stream",
     "text": [
      "Raj\n",
      "is\n",
      "data\n",
      "Analyst\n",
      "this\n",
      "is\n",
      "python\n",
      "class\n",
      "\n"
     ]
    }
   ],
   "source": [
    "f = open('abcd.txt', 'r')\n",
    "data = f.read()\n",
    "print(data)\n",
    "f.close()"
   ]
  },
  {
   "cell_type": "code",
   "execution_count": 19,
   "metadata": {},
   "outputs": [
    {
     "name": "stdout",
     "output_type": "stream",
     "text": [
      "Raj\n",
      "is\n",
      "da\n"
     ]
    }
   ],
   "source": [
    "# to read only first 9 characters\n",
    "f = open('abcd.txt', 'r')\n",
    "data = f.read(9)\n",
    "print(data)\n",
    "f.close()"
   ]
  },
  {
   "cell_type": "code",
   "execution_count": 20,
   "metadata": {},
   "outputs": [
    {
     "name": "stdout",
     "output_type": "stream",
     "text": [
      "Raj\n",
      "is\n"
     ]
    }
   ],
   "source": [
    "# to read only first 2 lines\n",
    "f = open('abcd.txt', 'r')\n",
    "line1 = f.readline()\n",
    "print(line1, end='')\n",
    "\n",
    "line2 = f.readline()\n",
    "print(line2, end='')\n",
    "f.close()"
   ]
  },
  {
   "cell_type": "markdown",
   "metadata": {},
   "source": [
    "WITH"
   ]
  },
  {
   "cell_type": "code",
   "execution_count": 21,
   "metadata": {},
   "outputs": [
    {
     "name": "stdout",
     "output_type": "stream",
     "text": [
      "Raj\n",
      "is\n"
     ]
    }
   ],
   "source": [
    "# it will automatically close the file \n",
    "with(open('abcd.txt', 'r') as f ):\n",
    "    line1 = f.readline()\n",
    "    print(line1, end='')\n",
    "\n",
    "    line2 = f.readline()\n",
    "    print(line2, end='')\n",
    "    # f.close()"
   ]
  },
  {
   "cell_type": "code",
   "execution_count": 22,
   "metadata": {},
   "outputs": [],
   "source": [
    "# tell() - is used to tell the position of cursor\n",
    "# seek() - used to move cursor to specific location index, f.seek(16)"
   ]
  },
  {
   "cell_type": "code",
   "execution_count": 25,
   "metadata": {},
   "outputs": [
    {
     "name": "stdout",
     "output_type": "stream",
     "text": [
      "File Exists:  abcd.txt\n",
      "The content of file is: \n",
      "Raj\n",
      "is\n",
      "data\n",
      "Analyst\n",
      "this\n",
      "is\n",
      "python\n",
      "class\n",
      "\n"
     ]
    }
   ],
   "source": [
    "# check if the file exists or not\n",
    "import os, sys\n",
    "filename = 'abcd.txt'\n",
    "if os.path.isfile(filename):\n",
    "    print('File Exists: ', filename)\n",
    "    f = open(filename,'r')\n",
    "else:\n",
    "    print('File does not exists: ', filename)\n",
    "    sys.exit(0)\n",
    "print('The content of file is: ')\n",
    "data = f.read()\n",
    "print(data) "
   ]
  },
  {
   "cell_type": "code",
   "execution_count": 29,
   "metadata": {},
   "outputs": [
    {
     "name": "stdout",
     "output_type": "stream",
     "text": [
      "The number of lines:  8\n",
      "The number of words:  8\n",
      "The number of character:  41\n"
     ]
    }
   ],
   "source": [
    "f = open('abcd.txt','r')\n",
    "lcount= wcount= ccount = 0\n",
    "for l in f:\n",
    "    lcount = lcount+1\n",
    "    ccount = ccount + len(l)\n",
    "    words = l.split()\n",
    "    wcount = wcount + len(words)\n",
    "print('The number of lines: ', lcount)\n",
    "print('The number of words: ', wcount)\n",
    "print('The number of character: ', ccount)\n",
    "f.close()"
   ]
  },
  {
   "cell_type": "code",
   "execution_count": null,
   "metadata": {},
   "outputs": [],
   "source": []
  }
 ],
 "metadata": {
  "kernelspec": {
   "display_name": "base",
   "language": "python",
   "name": "python3"
  },
  "language_info": {
   "codemirror_mode": {
    "name": "ipython",
    "version": 3
   },
   "file_extension": ".py",
   "mimetype": "text/x-python",
   "name": "python",
   "nbconvert_exporter": "python",
   "pygments_lexer": "ipython3",
   "version": "3.11.3"
  },
  "orig_nbformat": 4
 },
 "nbformat": 4,
 "nbformat_minor": 2
}
