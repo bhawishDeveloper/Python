{
 "cells": [
  {
   "cell_type": "code",
   "execution_count": 1,
   "metadata": {},
   "outputs": [
    {
     "name": "stdout",
     "output_type": "stream",
     "text": [
      "         56 function calls in 0.000 seconds\n",
      "\n",
      "   Ordered by: standard name\n",
      "\n",
      "   ncalls  tottime  percall  cumtime  percall filename:lineno(function)\n",
      "        1    0.000    0.000    0.000    0.000 1790210850.py:1(<module>)\n",
      "        3    0.000    0.000    0.000    0.000 codeop.py:117(__call__)\n",
      "        6    0.000    0.000    0.000    0.000 compilerop.py:180(extra_flags)\n",
      "        3    0.000    0.000    0.000    0.000 contextlib.py:104(__init__)\n",
      "        3    0.000    0.000    0.000    0.000 contextlib.py:132(__enter__)\n",
      "        3    0.000    0.000    0.000    0.000 contextlib.py:141(__exit__)\n",
      "        3    0.000    0.000    0.000    0.000 contextlib.py:287(helper)\n",
      "        3    0.000    0.000    0.000    0.000 interactiveshell.py:1229(user_global_ns)\n",
      "        3    0.000    0.000    0.000    0.000 interactiveshell.py:3421(compare)\n",
      "        3    0.000    0.000    0.464    0.155 interactiveshell.py:3469(run_code)\n",
      "        3    0.000    0.000    0.000    0.000 traitlets.py:651(get)\n",
      "        3    0.000    0.000    0.000    0.000 traitlets.py:689(__get__)\n",
      "        3    0.000    0.000    0.000    0.000 {built-in method builtins.compile}\n",
      "        3    0.000    0.000    0.463    0.154 {built-in method builtins.exec}\n",
      "        6    0.000    0.000    0.000    0.000 {built-in method builtins.getattr}\n",
      "        6    0.000    0.000    0.000    0.000 {built-in method builtins.next}\n",
      "        1    0.000    0.000    0.000    0.000 {method 'disable' of '_lsprof.Profiler' objects}\n",
      "\n",
      "\n"
     ]
    }
   ],
   "source": [
    "import cProfile\n",
    "\n",
    "# Create a cProfile object\n",
    "profiler = cProfile.Profile()\n",
    "# Start profiling\n",
    "profiler.enable()\n",
    "\n",
    "# Run the code you want to profile\n",
    "total = 0\n",
    "for i in range(1000000):\n",
    "    total += i\n",
    "\n",
    "# Stop profiling\n",
    "profiler.disable()\n",
    "\n",
    "# Print the profiling results\n",
    "profiler.print_stats()\n"
   ]
  },
  {
   "cell_type": "code",
   "execution_count": null,
   "metadata": {},
   "outputs": [],
   "source": []
  }
 ],
 "metadata": {
  "kernelspec": {
   "display_name": "base",
   "language": "python",
   "name": "python3"
  },
  "language_info": {
   "codemirror_mode": {
    "name": "ipython",
    "version": 3
   },
   "file_extension": ".py",
   "mimetype": "text/x-python",
   "name": "python",
   "nbconvert_exporter": "python",
   "pygments_lexer": "ipython3",
   "version": "3.11.3"
  },
  "orig_nbformat": 4
 },
 "nbformat": 4,
 "nbformat_minor": 2
}
