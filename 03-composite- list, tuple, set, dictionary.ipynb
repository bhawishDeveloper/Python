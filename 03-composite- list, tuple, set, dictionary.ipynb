{
 "cells": [
  {
   "cell_type": "markdown",
   "id": "f6108b83",
   "metadata": {},
   "source": [
    "# List (Ordered,Mutable, Duplicates Allowed)"
   ]
  },
  {
   "cell_type": "code",
   "execution_count": 9,
   "id": "1acbd810",
   "metadata": {},
   "outputs": [
    {
     "data": {
      "text/plain": [
       "[5, 5.5, 'raj', True]"
      ]
     },
     "execution_count": 9,
     "metadata": {},
     "output_type": "execute_result"
    }
   ],
   "source": [
    "mylist = [5,5.5,'raj', True]\n",
    "mylist"
   ]
  },
  {
   "cell_type": "code",
   "execution_count": 2,
   "id": "a51e999f",
   "metadata": {},
   "outputs": [
    {
     "data": {
      "text/plain": [
       "True"
      ]
     },
     "execution_count": 2,
     "metadata": {},
     "output_type": "execute_result"
    }
   ],
   "source": [
    "mylist[-1]"
   ]
  },
  {
   "cell_type": "code",
   "execution_count": 3,
   "id": "1c3b1d13",
   "metadata": {},
   "outputs": [
    {
     "data": {
      "text/plain": [
       "'raj'"
      ]
     },
     "execution_count": 3,
     "metadata": {},
     "output_type": "execute_result"
    }
   ],
   "source": [
    "mylist[2]"
   ]
  },
  {
   "cell_type": "code",
   "execution_count": 4,
   "id": "2786b2d6",
   "metadata": {},
   "outputs": [
    {
     "data": {
      "text/plain": [
       "[5.5, 'raj']"
      ]
     },
     "execution_count": 4,
     "metadata": {},
     "output_type": "execute_result"
    }
   ],
   "source": [
    "mylist[1:3]"
   ]
  },
  {
   "cell_type": "code",
   "execution_count": 6,
   "id": "67d8aa5c",
   "metadata": {},
   "outputs": [
    {
     "name": "stdout",
     "output_type": "stream",
     "text": [
      "5\n",
      "5.5\n",
      "raj\n",
      "True\n"
     ]
    }
   ],
   "source": [
    "for i in mylist: print(i)"
   ]
  },
  {
   "cell_type": "code",
   "execution_count": 10,
   "id": "170a64eb",
   "metadata": {},
   "outputs": [
    {
     "data": {
      "text/plain": [
       "[5, 5.5, 'raj', True, 'Developer']"
      ]
     },
     "execution_count": 10,
     "metadata": {},
     "output_type": "execute_result"
    }
   ],
   "source": [
    "mylist.append('Developer')\n",
    "mylist"
   ]
  },
  {
   "cell_type": "code",
   "execution_count": 11,
   "id": "869016d8",
   "metadata": {},
   "outputs": [
    {
     "data": {
      "text/plain": [
       "[5, 5.5, 'raj', True, 'Developer', 5, 5.5, 'raj', True, 'Developer']"
      ]
     },
     "execution_count": 11,
     "metadata": {},
     "output_type": "execute_result"
    }
   ],
   "source": [
    "mylist1 = mylist*2\n",
    "mylist1"
   ]
  },
  {
   "cell_type": "markdown",
   "id": "5897da84",
   "metadata": {},
   "source": [
    "# Tuple (Immutable, Readonly)"
   ]
  },
  {
   "cell_type": "code",
   "execution_count": 13,
   "id": "cd874958",
   "metadata": {},
   "outputs": [
    {
     "data": {
      "text/plain": [
       "(5, 5.5, 'raj', True)"
      ]
     },
     "execution_count": 13,
     "metadata": {},
     "output_type": "execute_result"
    }
   ],
   "source": [
    "t = (5,5.5,'raj', True)\n",
    "t"
   ]
  },
  {
   "cell_type": "code",
   "execution_count": 15,
   "id": "473919f9",
   "metadata": {},
   "outputs": [
    {
     "data": {
      "text/plain": [
       "5.5"
      ]
     },
     "execution_count": 15,
     "metadata": {},
     "output_type": "execute_result"
    }
   ],
   "source": [
    "t[1]"
   ]
  },
  {
   "cell_type": "code",
   "execution_count": 16,
   "id": "64f2797e",
   "metadata": {},
   "outputs": [
    {
     "ename": "AttributeError",
     "evalue": "'tuple' object has no attribute 'append'",
     "output_type": "error",
     "traceback": [
      "\u001b[1;31m---------------------------------------------------------------------------\u001b[0m",
      "\u001b[1;31mAttributeError\u001b[0m                            Traceback (most recent call last)",
      "Cell \u001b[1;32mIn[16], line 1\u001b[0m\n\u001b[1;32m----> 1\u001b[0m t\u001b[38;5;241m.\u001b[39mappend(\u001b[38;5;124m'\u001b[39m\u001b[38;5;124mtup\u001b[39m\u001b[38;5;124m'\u001b[39m)\n",
      "\u001b[1;31mAttributeError\u001b[0m: 'tuple' object has no attribute 'append'"
     ]
    }
   ],
   "source": [
    "# because its immutable and its readonly\n",
    "t.append('tup')"
   ]
  },
  {
   "cell_type": "markdown",
   "id": "b897eabb",
   "metadata": {},
   "source": [
    "# Set (Mutable, NoDuplicates)"
   ]
  },
  {
   "cell_type": "code",
   "execution_count": 25,
   "id": "5179487e",
   "metadata": {},
   "outputs": [
    {
     "data": {
      "text/plain": [
       "{5, 5.5, True, 'raj'}"
      ]
     },
     "execution_count": 25,
     "metadata": {},
     "output_type": "execute_result"
    }
   ],
   "source": [
    "s = {5,5.5,'raj', True}\n",
    "s"
   ]
  },
  {
   "cell_type": "code",
   "execution_count": 26,
   "id": "b6f7979b",
   "metadata": {},
   "outputs": [
    {
     "data": {
      "text/plain": [
       "{5, 5.5, 6, True, 'raj'}"
      ]
     },
     "execution_count": 26,
     "metadata": {},
     "output_type": "execute_result"
    }
   ],
   "source": [
    "s.add(6)\n",
    "s"
   ]
  },
  {
   "cell_type": "code",
   "execution_count": 27,
   "id": "007a62f7",
   "metadata": {},
   "outputs": [
    {
     "data": {
      "text/plain": [
       "{5.5, 6, True, 'raj'}"
      ]
     },
     "execution_count": 27,
     "metadata": {},
     "output_type": "execute_result"
    }
   ],
   "source": [
    "s.remove(5)\n",
    "s"
   ]
  },
  {
   "cell_type": "code",
   "execution_count": 28,
   "id": "7e9fcd3a",
   "metadata": {},
   "outputs": [],
   "source": [
    "# Dictionary (Mutable, NoDuplicates)"
   ]
  },
  {
   "cell_type": "code",
   "execution_count": 29,
   "id": "8ebc6a99",
   "metadata": {},
   "outputs": [
    {
     "data": {
      "text/plain": [
       "{1: 'eng', 2: 'math', 3: 'science'}"
      ]
     },
     "execution_count": 29,
     "metadata": {},
     "output_type": "execute_result"
    }
   ],
   "source": [
    "d = {1: 'eng', 2: 'math', 3:'science'}\n",
    "d"
   ]
  },
  {
   "cell_type": "code",
   "execution_count": 30,
   "id": "787282de",
   "metadata": {},
   "outputs": [
    {
     "data": {
      "text/plain": [
       "'math'"
      ]
     },
     "execution_count": 30,
     "metadata": {},
     "output_type": "execute_result"
    }
   ],
   "source": [
    "d[2]"
   ]
  },
  {
   "cell_type": "code",
   "execution_count": 34,
   "id": "f68f1305",
   "metadata": {},
   "outputs": [
    {
     "data": {
      "text/plain": [
       "{1: 'eng', 2: 'math', 3: 'science', 'a': 'apple'}"
      ]
     },
     "execution_count": 34,
     "metadata": {},
     "output_type": "execute_result"
    }
   ],
   "source": [
    "d['a'] = 'apple'\n",
    "d"
   ]
  },
  {
   "cell_type": "code",
   "execution_count": null,
   "id": "a807ee28",
   "metadata": {},
   "outputs": [],
   "source": []
  }
 ],
 "metadata": {
  "kernelspec": {
   "display_name": "Python 3",
   "language": "python",
   "name": "python3"
  },
  "language_info": {
   "codemirror_mode": {
    "name": "ipython",
    "version": 3
   },
   "file_extension": ".py",
   "mimetype": "text/x-python",
   "name": "python",
   "nbconvert_exporter": "python",
   "pygments_lexer": "ipython3",
   "version": "3.11.3"
  }
 },
 "nbformat": 4,
 "nbformat_minor": 5
}
