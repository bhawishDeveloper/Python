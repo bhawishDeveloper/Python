{
 "cells": [
  {
   "cell_type": "markdown",
   "metadata": {},
   "source": [
    "Single Inheritence"
   ]
  },
  {
   "cell_type": "code",
   "execution_count": 2,
   "metadata": {},
   "outputs": [
    {
     "name": "stdout",
     "output_type": "stream",
     "text": [
      "This is parent method\n",
      "This is child class\n"
     ]
    }
   ],
   "source": [
    "class p:\n",
    "    def m1(self):\n",
    "        print('This is parent method')\n",
    "class c(p):\n",
    "    def m2(self):\n",
    "        print('This is child class')\n",
    "child = c()\n",
    "child.m1()\n",
    "child.m2()"
   ]
  },
  {
   "cell_type": "markdown",
   "metadata": {},
   "source": [
    "Multi Level Inheritence"
   ]
  },
  {
   "cell_type": "code",
   "execution_count": 3,
   "metadata": {},
   "outputs": [
    {
     "name": "stdout",
     "output_type": "stream",
     "text": [
      "This is parent method\n",
      "This is child method\n",
      "This is sub child method\n"
     ]
    }
   ],
   "source": [
    "class p:\n",
    "    def m1(self):\n",
    "        print('This is parent method')\n",
    "class c(p):\n",
    "    def m2(self):\n",
    "        print('This is child method')\n",
    "class cc(c):\n",
    "    def m3(self):\n",
    "        print('This is sub child method')\n",
    "child = cc()\n",
    "child.m1()\n",
    "child.m2()\n",
    "child.m3()"
   ]
  },
  {
   "cell_type": "markdown",
   "metadata": {},
   "source": [
    "Hierarchical Inheritence"
   ]
  },
  {
   "cell_type": "code",
   "execution_count": 4,
   "metadata": {},
   "outputs": [
    {
     "name": "stdout",
     "output_type": "stream",
     "text": [
      "This is parent method\n",
      "This is child1 method\n",
      "This is parent method\n",
      "This is child2 method\n"
     ]
    }
   ],
   "source": [
    "class p:\n",
    "    def m1(self):\n",
    "        print('This is parent method')\n",
    "class c1(p):\n",
    "    def m2(self):\n",
    "        print('This is child1 method')\n",
    "class c2(p):\n",
    "    def m3(self):\n",
    "        print('This is child2 method')\n",
    "ch1 = c1()\n",
    "ch1.m1()\n",
    "ch1.m2()\n",
    "ch2 = c2()\n",
    "ch2.m1()\n",
    "ch2.m3()"
   ]
  },
  {
   "cell_type": "markdown",
   "metadata": {},
   "source": [
    "Multiple Inheritence"
   ]
  },
  {
   "cell_type": "code",
   "execution_count": 5,
   "metadata": {},
   "outputs": [
    {
     "name": "stdout",
     "output_type": "stream",
     "text": [
      "This is parent1 method\n",
      "This is parent2 method\n",
      "This is child method\n"
     ]
    }
   ],
   "source": [
    "class p1:\n",
    "    def m1(self):\n",
    "        print('This is parent1 method')\n",
    "class p2():\n",
    "    def m2(self):\n",
    "        print('This is parent2 method')\n",
    "class c(p1,p2):\n",
    "    def m3(self):\n",
    "        print('This is child method')\n",
    "ch = c()\n",
    "ch.m1()\n",
    "ch.m2()\n",
    "ch.m3()"
   ]
  },
  {
   "cell_type": "markdown",
   "metadata": {},
   "source": [
    "Hybrid Inheritence"
   ]
  },
  {
   "cell_type": "markdown",
   "metadata": {},
   "source": [
    "Cyclic Inheritence"
   ]
  },
  {
   "cell_type": "code",
   "execution_count": 6,
   "metadata": {},
   "outputs": [
    {
     "ename": "NameError",
     "evalue": "name 'B' is not defined",
     "output_type": "error",
     "traceback": [
      "\u001b[1;31m---------------------------------------------------------------------------\u001b[0m",
      "\u001b[1;31mNameError\u001b[0m                                 Traceback (most recent call last)",
      "\u001b[1;32mc:\\Users\\Bhao\\jupyter data science\\Python Course\\Python\\Python\\13-inheritence.ipynb Cell 11\u001b[0m line \u001b[0;36m1\n\u001b[1;32m----> <a href='vscode-notebook-cell:/c%3A/Users/Bhao/jupyter%20data%20science/Python%20Course/Python/Python/13-inheritence.ipynb#X21sZmlsZQ%3D%3D?line=0'>1</a>\u001b[0m \u001b[39mclass\u001b[39;00m \u001b[39mA\u001b[39;00m(B):\n\u001b[0;32m      <a href='vscode-notebook-cell:/c%3A/Users/Bhao/jupyter%20data%20science/Python%20Course/Python/Python/13-inheritence.ipynb#X21sZmlsZQ%3D%3D?line=1'>2</a>\u001b[0m     \u001b[39mpass\u001b[39;00m\n\u001b[0;32m      <a href='vscode-notebook-cell:/c%3A/Users/Bhao/jupyter%20data%20science/Python%20Course/Python/Python/13-inheritence.ipynb#X21sZmlsZQ%3D%3D?line=2'>3</a>\u001b[0m \u001b[39mclass\u001b[39;00m \u001b[39mB\u001b[39;00m(A):\n",
      "\u001b[1;31mNameError\u001b[0m: name 'B' is not defined"
     ]
    }
   ],
   "source": [
    "class A(B):\n",
    "    pass\n",
    "class B(A):\n",
    "    pass "
   ]
  },
  {
   "cell_type": "markdown",
   "metadata": {},
   "source": [
    "Super Method"
   ]
  },
  {
   "cell_type": "markdown",
   "metadata": {},
   "source": [
    "Super Method"
   ]
  },
  {
   "cell_type": "code",
   "execution_count": 8,
   "metadata": {},
   "outputs": [
    {
     "name": "stdout",
     "output_type": "stream",
     "text": [
      "Name:  raj\n",
      "Age:  25\n",
      "Roll No:  101\n",
      "Marks:  98\n"
     ]
    }
   ],
   "source": [
    "# it is used to call the super class variables, methods and constructors\n",
    "class person:\n",
    "    def __init__(self,name,age):\n",
    "        self.name = name\n",
    "        self.age = age \n",
    "    def display(self):\n",
    "        print('Name: ', self.name)\n",
    "        print('Age: ', self.age)\n",
    "class student(person):\n",
    "    def __init__(self,name,age,rollno, marks):\n",
    "        super().__init__(name,age)\n",
    "        self.rollno = rollno\n",
    "        self.marks = marks  \n",
    "    def display(self):\n",
    "        super().display()\n",
    "        print('Roll No: ', self.rollno)\n",
    "        print('Marks: ', self.marks)\n",
    "s1 = student('raj', 25, 101, 98)\n",
    "s1.display()"
   ]
  },
  {
   "cell_type": "code",
   "execution_count": 10,
   "metadata": {},
   "outputs": [
    {
     "name": "stdout",
     "output_type": "stream",
     "text": [
      "Parant constructor\n",
      "Parent method\n"
     ]
    }
   ],
   "source": [
    "# How to call parent class instance method and constructors from classmethod in child class\n",
    "class a:\n",
    "    def __init__(self):\n",
    "        print('Parant constructor')\n",
    "    def m1(self):\n",
    "        print('Parent method')\n",
    "class b(a):\n",
    "    @classmethod\n",
    "    def m2(cls):\n",
    "        super(b,cls).__init__(cls)\n",
    "        super(b,cls).m1(cls)\n",
    "b.m2()"
   ]
  },
  {
   "cell_type": "code",
   "execution_count": null,
   "metadata": {},
   "outputs": [],
   "source": []
  }
 ],
 "metadata": {
  "kernelspec": {
   "display_name": "base",
   "language": "python",
   "name": "python3"
  },
  "language_info": {
   "codemirror_mode": {
    "name": "ipython",
    "version": 3
   },
   "file_extension": ".py",
   "mimetype": "text/x-python",
   "name": "python",
   "nbconvert_exporter": "python",
   "pygments_lexer": "ipython3",
   "version": "3.11.3"
  },
  "orig_nbformat": 4
 },
 "nbformat": 4,
 "nbformat_minor": 2
}
