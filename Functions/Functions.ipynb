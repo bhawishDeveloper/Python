{
 "cells": [
  {
   "cell_type": "markdown",
   "metadata": {},
   "source": [
    "### 1. Built in functions \n",
    "### 2. User defined functions\n"
   ]
  },
  {
   "cell_type": "code",
   "execution_count": 2,
   "metadata": {},
   "outputs": [],
   "source": [
    "# 1. Built in function \n",
    "# id()\n",
    "# type()\n",
    "# eval()"
   ]
  },
  {
   "cell_type": "code",
   "execution_count": 6,
   "metadata": {},
   "outputs": [
    {
     "name": "stdout",
     "output_type": "stream",
     "text": [
      "hello world\n"
     ]
    }
   ],
   "source": [
    "# 2. User defined function\n",
    "def hello():\n",
    "    print(\"hello world\")\n",
    "hello()"
   ]
  },
  {
   "cell_type": "code",
   "execution_count": 8,
   "metadata": {},
   "outputs": [
    {
     "name": "stdout",
     "output_type": "stream",
     "text": [
      "Square of  5  is:  25\n"
     ]
    }
   ],
   "source": [
    "# function to find square\n",
    "def sq(num):\n",
    "    print(\"Square of \", num, \" is: \", num*num)\n",
    "sq(5)"
   ]
  },
  {
   "cell_type": "code",
   "execution_count": 10,
   "metadata": {},
   "outputs": [
    {
     "name": "stdout",
     "output_type": "stream",
     "text": [
      "Sum of two numbers is:  12\n"
     ]
    }
   ],
   "source": [
    "# function to accept two numbers and return sum\n",
    "def sum(x,y):\n",
    "    return x+y\n",
    "\n",
    "print('Sum of two numbers is: ',sum(3,9))"
   ]
  },
  {
   "cell_type": "code",
   "execution_count": 12,
   "metadata": {},
   "outputs": [
    {
     "name": "stdout",
     "output_type": "stream",
     "text": [
      "number is odd\n"
     ]
    }
   ],
   "source": [
    "# function to check given number is even or odd\n",
    "def checkeven(num):\n",
    "    if num%2 == 0:\n",
    "        print('Number is even')\n",
    "    else:\n",
    "        print('number is odd')\n",
    "\n",
    "num = int(input('Enter number to find its even or odd: '))\n",
    "checkeven(num)"
   ]
  },
  {
   "cell_type": "code",
   "execution_count": 17,
   "metadata": {},
   "outputs": [
    {
     "name": "stdout",
     "output_type": "stream",
     "text": [
      "120\n"
     ]
    }
   ],
   "source": [
    "def fact(num):\n",
    "    res, i = 1,1\n",
    "    while i <= num:\n",
    "        res = res * i\n",
    "        i+=1\n",
    "    print(res)\n",
    "num = int(input('Enter number to find its factorial: '))\n",
    "fact(num)"
   ]
  },
  {
   "cell_type": "code",
   "execution_count": 18,
   "metadata": {},
   "outputs": [],
   "source": [
    "# in python we can return more than one values\n",
    "# return sum, sub,div,mul"
   ]
  },
  {
   "cell_type": "markdown",
   "metadata": {},
   "source": [
    "def test(a,b):\n",
    "    return \n",
    "test(10,20)\n",
    "###### a, b are actual arguments and 10,20 are formal arguments "
   ]
  },
  {
   "cell_type": "markdown",
   "metadata": {},
   "source": [
    "##### There are 4 types of actual arguments"
   ]
  },
  {
   "cell_type": "code",
   "execution_count": 20,
   "metadata": {},
   "outputs": [],
   "source": [
    "# 1. Positional arg\n",
    "# 2. Keyword arg\n",
    "# 3. default arg\n",
    "# 4. variable length arg"
   ]
  },
  {
   "cell_type": "code",
   "execution_count": 21,
   "metadata": {},
   "outputs": [
    {
     "data": {
      "text/plain": [
       "30"
      ]
     },
     "execution_count": 21,
     "metadata": {},
     "output_type": "execute_result"
    }
   ],
   "source": [
    "# Positional arguments\n",
    "# the number of arguments and the position of arg must be matched. if we change the order the result will change\n",
    "def sum(a,b):\n",
    "    return a+b\n",
    "sum(10,20)\n",
    "sum(20,10)"
   ]
  },
  {
   "cell_type": "code",
   "execution_count": 24,
   "metadata": {},
   "outputs": [
    {
     "name": "stdout",
     "output_type": "stream",
     "text": [
      "Hello bhawish, Welcome to python learning course.\n"
     ]
    }
   ],
   "source": [
    "# Keyword arguments\n",
    "# order of arguments is not important but the number of arg is\n",
    "def wish(name, msg):\n",
    "    print('Hello', name, msg)\n",
    "wish(name='bhawish,', msg='Welcome to python learning course.')"
   ]
  },
  {
   "cell_type": "code",
   "execution_count": 26,
   "metadata": {},
   "outputs": [
    {
     "name": "stdout",
     "output_type": "stream",
     "text": [
      "Hello Bhawish Good Morning\n"
     ]
    }
   ],
   "source": [
    "wish(msg='Good Morning', name='Bhawish')"
   ]
  },
  {
   "cell_type": "code",
   "execution_count": 27,
   "metadata": {},
   "outputs": [
    {
     "name": "stdout",
     "output_type": "stream",
     "text": [
      "Hello Bhawish Good Morning\n"
     ]
    }
   ],
   "source": [
    "# Default arguments\n",
    "# after default arguments we should not take non default arguments\n",
    "def wish(name='guest'):\n",
    "    print('Hello', name, 'Good Morning')\n",
    "wish('Bhawish')"
   ]
  },
  {
   "cell_type": "code",
   "execution_count": 28,
   "metadata": {},
   "outputs": [
    {
     "name": "stdout",
     "output_type": "stream",
     "text": [
      "Hello guest Good Morning\n"
     ]
    }
   ],
   "source": [
    "wish()"
   ]
  },
  {
   "cell_type": "code",
   "execution_count": 32,
   "metadata": {},
   "outputs": [
    {
     "name": "stdout",
     "output_type": "stream",
     "text": [
      "13\n"
     ]
    }
   ],
   "source": [
    "# Variable length argument\n",
    "# we can call this function by any number of arguments \n",
    "# these arguments are represented in the form of TUPLE\n",
    "def sum(*n):\n",
    "    i, sum = 0,0\n",
    "    for i in n:\n",
    "        sum += i\n",
    "    print(sum)\n",
    "sum(3,6,4)"
   ]
  },
  {
   "cell_type": "code",
   "execution_count": 33,
   "metadata": {},
   "outputs": [
    {
     "name": "stdout",
     "output_type": "stream",
     "text": [
      "0\n"
     ]
    }
   ],
   "source": [
    "sum()"
   ]
  },
  {
   "cell_type": "code",
   "execution_count": 35,
   "metadata": {},
   "outputs": [
    {
     "name": "stdout",
     "output_type": "stream",
     "text": [
      "n1 = 10\n",
      "n2 = 20\n",
      "n3 = 40\n"
     ]
    }
   ],
   "source": [
    "# variable length keyword arguement\n",
    "# call this function by passing any number of keyword arguments. internally arg will be stored in dictionary.\n",
    "def display(**kwargs):\n",
    "    for i,j in kwargs.items():\n",
    "        print(i, '=',j)\n",
    "display(n1=10, n2=20, n3=40)"
   ]
  },
  {
   "cell_type": "code",
   "execution_count": 36,
   "metadata": {},
   "outputs": [
    {
     "name": "stdout",
     "output_type": "stream",
     "text": [
      "x = Morning, \n",
      "y = bhawish\n",
      "z = raj\n"
     ]
    }
   ],
   "source": [
    "display(x='Morning, ', y='bhawish', z='raj')"
   ]
  },
  {
   "cell_type": "markdown",
   "metadata": {},
   "source": [
    "##### a group of lines with some name is called a function\n",
    "##### a group of functions saved to a file, is called module\n",
    "##### a group of modules is nothing but a library "
   ]
  },
  {
   "cell_type": "markdown",
   "metadata": {},
   "source": [
    "# Recursive Function"
   ]
  },
  {
   "cell_type": "code",
   "execution_count": 43,
   "metadata": {},
   "outputs": [
    {
     "data": {
      "text/plain": [
       "120"
      ]
     },
     "execution_count": 43,
     "metadata": {},
     "output_type": "execute_result"
    }
   ],
   "source": [
    "# a function that calls itself \n",
    "def fact(n):\n",
    "    if n ==0:\n",
    "        res = 1\n",
    "    else:\n",
    "        res = n * fact(n-1)\n",
    "    return res\n",
    "fact(5)"
   ]
  },
  {
   "cell_type": "markdown",
   "metadata": {},
   "source": [
    "# Anonymous Function/ Lambda Function"
   ]
  },
  {
   "cell_type": "code",
   "execution_count": 45,
   "metadata": {},
   "outputs": [
    {
     "name": "stdout",
     "output_type": "stream",
     "text": [
      "The square of 4:  16\n",
      "The square of 5:  25\n"
     ]
    }
   ],
   "source": [
    "# find sq\n",
    "sq = lambda x: x*x\n",
    "print(\"The square of 4: \", sq(4))\n",
    "print(\"The square of 5: \", sq(5))"
   ]
  },
  {
   "cell_type": "code",
   "execution_count": 46,
   "metadata": {},
   "outputs": [
    {
     "name": "stdout",
     "output_type": "stream",
     "text": [
      "Biggest number is:  6\n"
     ]
    }
   ],
   "source": [
    "big = lambda a,b: a if a>b else b\n",
    "print(\"Biggest number is: \", big(5,6))"
   ]
  },
  {
   "cell_type": "markdown",
   "metadata": {},
   "source": [
    "# Filter Function"
   ]
  },
  {
   "cell_type": "code",
   "execution_count": 48,
   "metadata": {},
   "outputs": [],
   "source": [
    "# filters are used to filter values from given sequence based on condition\n",
    "# sequence can be list, tuple, string \n",
    "# filter(function, sequence)\n",
    "\n"
   ]
  },
  {
   "cell_type": "code",
   "execution_count": 49,
   "metadata": {},
   "outputs": [
    {
     "name": "stdout",
     "output_type": "stream",
     "text": [
      "[0, 10, 20, 30]\n"
     ]
    }
   ],
   "source": [
    "# program to flter even numbers from list\n",
    "def isEven(x):\n",
    "    if x%2 == 0:\n",
    "        return True\n",
    "    else:\n",
    "        return False\n",
    "l = [0,5,10,15,20,25,30]\n",
    "l1 = list(filter(isEven, l))\n",
    "print(l1)"
   ]
  },
  {
   "cell_type": "code",
   "execution_count": 52,
   "metadata": {},
   "outputs": [
    {
     "name": "stdout",
     "output_type": "stream",
     "text": [
      "Even numbers:  [0, 10, 20, 30]\n",
      "Odd numbers:  [5, 15, 25]\n"
     ]
    }
   ],
   "source": [
    "# with lambda function\n",
    "l = [0,5,10,15,20,25,30]\n",
    "l1 = list(filter(lambda x: x%2==0, l))\n",
    "print('Even numbers: ', l1)\n",
    "\n",
    "l2 = list(filter(lambda x: x%2!=0, l))\n",
    "print('Odd numbers: ', l2)"
   ]
  },
  {
   "cell_type": "markdown",
   "metadata": {},
   "source": [
    "# Map Function"
   ]
  },
  {
   "cell_type": "code",
   "execution_count": 54,
   "metadata": {},
   "outputs": [
    {
     "data": {
      "text/plain": [
       "[2, 4, 6, 8, 10]"
      ]
     },
     "execution_count": 54,
     "metadata": {},
     "output_type": "execute_result"
    }
   ],
   "source": [
    "# to modify or to apply any functionality on every elements of list we use map function\n",
    "# map(function, sequence)\n",
    "# we can apply map function on multiple list but all list must have same length\n",
    "#  Que: double the each element of list using map function\n",
    "def double(x):\n",
    "    return 2*x\n",
    "l = [1,2,3,4,5]\n",
    "l2 = list(map(double, l))\n",
    "l2"
   ]
  },
  {
   "cell_type": "code",
   "execution_count": 55,
   "metadata": {},
   "outputs": [
    {
     "data": {
      "text/plain": [
       "[2, 4, 6, 8, 10]"
      ]
     },
     "execution_count": 55,
     "metadata": {},
     "output_type": "execute_result"
    }
   ],
   "source": [
    "# with lambda\n",
    "l = [1,2,3,4,5]\n",
    "l2 = list(map(lambda x: x*2, l))\n",
    "l2"
   ]
  },
  {
   "cell_type": "markdown",
   "metadata": {},
   "source": [
    "# Module"
   ]
  },
  {
   "cell_type": "code",
   "execution_count": 56,
   "metadata": {},
   "outputs": [
    {
     "name": "stdout",
     "output_type": "stream",
     "text": [
      "50\n",
      "The sum is:  8\n"
     ]
    }
   ],
   "source": [
    "import mymodule as md\n",
    "print(md.x)\n",
    "md.sum(5,3)"
   ]
  },
  {
   "cell_type": "code",
   "execution_count": 58,
   "metadata": {},
   "outputs": [
    {
     "data": {
      "text/plain": [
       "['__builtins__',\n",
       " '__cached__',\n",
       " '__doc__',\n",
       " '__file__',\n",
       " '__loader__',\n",
       " '__name__',\n",
       " '__package__',\n",
       " '__spec__',\n",
       " 'sub',\n",
       " 'sum',\n",
       " 'x']"
      ]
     },
     "execution_count": 58,
     "metadata": {},
     "output_type": "execute_result"
    }
   ],
   "source": [
    "dir(md)"
   ]
  },
  {
   "cell_type": "code",
   "execution_count": null,
   "metadata": {},
   "outputs": [],
   "source": [
    "# Math Modules\n",
    "sqrt()\n",
    "ceil()\n",
    "floor()\n",
    "fabs()\n",
    "log()\n",
    "sin()\n",
    "tan()\n"
   ]
  },
  {
   "cell_type": "code",
   "execution_count": 3,
   "metadata": {},
   "outputs": [
    {
     "name": "stdout",
     "output_type": "stream",
     "text": [
      "10.3\n"
     ]
    }
   ],
   "source": [
    "from math import *\n",
    "print(fabs(-10.3))    #return the absolute value\n"
   ]
  },
  {
   "cell_type": "code",
   "execution_count": 6,
   "metadata": {},
   "outputs": [
    {
     "name": "stdout",
     "output_type": "stream",
     "text": [
      "0.8674580981908098\n",
      "0.5428186001872505\n",
      "0.8819805100388406\n",
      "0.9628365304929959\n",
      "0.1270494883269745\n",
      "0.39180706441541957\n",
      "0.9058924527636151\n",
      "0.6059484579670257\n",
      "0.06772767993025652\n",
      "0.9553918435431349\n"
     ]
    }
   ],
   "source": [
    "# random module\n",
    "from random import *\n",
    "for i in range(10):\n",
    "    print(random())"
   ]
  },
  {
   "cell_type": "code",
   "execution_count": 8,
   "metadata": {},
   "outputs": [
    {
     "name": "stdout",
     "output_type": "stream",
     "text": [
      "6\n",
      "48\n",
      "20\n",
      "10\n",
      "32\n",
      "2\n",
      "35\n",
      "46\n",
      "8\n",
      "22\n"
     ]
    }
   ],
   "source": [
    "for i in range(10):\n",
    "    print(randint(1,50))  # 10 random values in between 1 and 50 #INCLUSIVE only integers"
   ]
  },
  {
   "cell_type": "code",
   "execution_count": 9,
   "metadata": {},
   "outputs": [
    {
     "name": "stdout",
     "output_type": "stream",
     "text": [
      "25.55103879381335\n",
      "36.679861674705556\n",
      "47.79698356031034\n",
      "3.2329421161058858\n",
      "34.68668917129862\n",
      "33.767788438013255\n",
      "49.90110960864547\n",
      "27.264249322511695\n",
      "30.540332049181128\n",
      "10.971576836272327\n"
     ]
    }
   ],
   "source": [
    "for i in range(10):\n",
    "    print(uniform(1,50))  # 10 random values in between 1 and 50 #NOT INCLUSIVE floats"
   ]
  },
  {
   "cell_type": "code",
   "execution_count": 12,
   "metadata": {},
   "outputs": [
    {
     "name": "stdout",
     "output_type": "stream",
     "text": [
      "26\n",
      "16\n",
      "11\n",
      "16\n",
      "41\n",
      "36\n",
      "41\n",
      "46\n",
      "41\n",
      "1\n"
     ]
    }
   ],
   "source": [
    "# randrange [start][stop][step]\n",
    "for i in range(10):\n",
    "    print(randrange(1,50,5))   "
   ]
  },
  {
   "cell_type": "code",
   "execution_count": 13,
   "metadata": {},
   "outputs": [
    {
     "name": "stdout",
     "output_type": "stream",
     "text": [
      "bunny\n",
      "sunny\n",
      "bunny\n",
      "sunny\n",
      "bunny\n",
      "hunny\n",
      "pinny\n",
      "bunny\n",
      "bunny\n",
      "bunny\n"
     ]
    }
   ],
   "source": [
    "# print random elements of a list or tuple\n",
    "from random import *\n",
    "list = ['hunny', 'bunny', 'sunny','pinny']\n",
    "for i in range(10):\n",
    "    print(choice(list))"
   ]
  },
  {
   "cell_type": "code",
   "execution_count": null,
   "metadata": {},
   "outputs": [],
   "source": []
  }
 ],
 "metadata": {
  "kernelspec": {
   "display_name": "base",
   "language": "python",
   "name": "python3"
  },
  "language_info": {
   "codemirror_mode": {
    "name": "ipython",
    "version": 3
   },
   "file_extension": ".py",
   "mimetype": "text/x-python",
   "name": "python",
   "nbconvert_exporter": "python",
   "pygments_lexer": "ipython3",
   "version": "3.11.3"
  },
  "orig_nbformat": 4
 },
 "nbformat": 4,
 "nbformat_minor": 2
}
