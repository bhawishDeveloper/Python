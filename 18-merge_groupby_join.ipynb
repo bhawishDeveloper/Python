{
 "cells": [
  {
   "cell_type": "code",
   "execution_count": 7,
   "metadata": {},
   "outputs": [
    {
     "name": "stdout",
     "output_type": "stream",
     "text": [
      "\n",
      "GroupBy and aggregate of Mean()\n",
      "               Value\n",
      "Category           \n",
      "A         12.333333\n",
      "B         21.000000\n",
      "\n",
      "GroupBy and aggregate of Sum()\n",
      "                Value\n",
      "Category Type       \n",
      "A        X        37\n",
      "B        Y        63\n"
     ]
    },
    {
     "name": "stderr",
     "output_type": "stream",
     "text": [
      "C:\\Users\\Bhao\\AppData\\Local\\Temp\\ipykernel_20172\\2559424101.py:9: FutureWarning: The default value of numeric_only in DataFrameGroupBy.mean is deprecated. In a future version, numeric_only will default to False. Either specify numeric_only or select only columns which should be valid for the function.\n",
      "  grouped_df = df.groupby('Category').mean()\n"
     ]
    }
   ],
   "source": [
    "import pandas as pd\n",
    "\n",
    "data = {'Category': ['A', 'B', 'A', 'B', 'A', 'B'],\n",
    "        'Type': ['X', 'Y', 'X', 'Y', 'X', 'Y'],\n",
    "        'Value': [10, 20, 15, 25, 12, 18]}\n",
    "df = pd.DataFrame(data)\n",
    "\n",
    "# Group by 'Category' and calculate the mean for each group\n",
    "grouped_df = df.groupby('Category').mean()\n",
    "print('\\nGroupBy and aggregate of Mean()\\n',grouped_df)\n",
    "\n",
    "grouped_sum = df.groupby(['Category', 'Type']).sum()\n",
    "print('\\nGroupBy and aggregate of Sum()\\n',grouped_sum)"
   ]
  },
  {
   "cell_type": "markdown",
   "metadata": {},
   "source": [
    "Joins"
   ]
  },
  {
   "cell_type": "code",
   "execution_count": 12,
   "metadata": {},
   "outputs": [
    {
     "name": "stdout",
     "output_type": "stream",
     "text": [
      "Inner Join\n",
      "    ID     Name  Age\n",
      "0   2      Bob   25\n",
      "1   3  Charlie   30\n",
      "\n",
      "Left Join\n",
      "    ID     Name   Age\n",
      "0   1    Alice   NaN\n",
      "1   2      Bob  25.0\n",
      "2   3  Charlie  30.0\n",
      "\n",
      "Right Join\n",
      "    ID     Name  Age\n",
      "0   2      Bob   25\n",
      "1   3  Charlie   30\n",
      "2   4      NaN   22\n",
      "\n",
      "Right Join\n",
      "    ID     Name   Age\n",
      "0   1    Alice   NaN\n",
      "1   2      Bob  25.0\n",
      "2   3  Charlie  30.0\n",
      "3   4      NaN  22.0\n"
     ]
    }
   ],
   "source": [
    "import pandas as pd\n",
    "\n",
    "df1 = pd.DataFrame({'ID': [1, 2, 3], 'Name': ['Alice', 'Bob', 'Charlie']})\n",
    "df2 = pd.DataFrame({'ID': [2, 3, 4], 'Age': [25, 30, 22]})\n",
    "\n",
    "merged_inner = pd.merge(df1, df2, on='ID', how='inner')\n",
    "print('Inner Join\\n', merged_inner)\n",
    "\n",
    "merged_left = pd.merge(df1, df2, on='ID', how='left')\n",
    "print('\\nLeft Join\\n', merged_left) \n",
    "\n",
    "merged_right = pd.merge(df1, df2, on='ID', how='right')\n",
    "print('\\nRight Join\\n', merged_right) \n",
    "\n",
    "merged_outer = pd.merge(df1, df2, on='ID', how='outer')\n",
    "print('\\nRight Join\\n', merged_outer)"
   ]
  }
 ],
 "metadata": {
  "kernelspec": {
   "display_name": "base",
   "language": "python",
   "name": "python3"
  },
  "language_info": {
   "codemirror_mode": {
    "name": "ipython",
    "version": 3
   },
   "file_extension": ".py",
   "mimetype": "text/x-python",
   "name": "python",
   "nbconvert_exporter": "python",
   "pygments_lexer": "ipython3",
   "version": "3.11.3"
  },
  "orig_nbformat": 4
 },
 "nbformat": 4,
 "nbformat_minor": 2
}
