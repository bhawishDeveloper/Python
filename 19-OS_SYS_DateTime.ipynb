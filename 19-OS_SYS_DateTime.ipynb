{
 "cells": [
  {
   "cell_type": "code",
   "execution_count": 1,
   "metadata": {},
   "outputs": [
    {
     "data": {
      "text/plain": [
       "'c:\\\\Users\\\\Bhao\\\\jupyter data science\\\\Python Course\\\\Python\\\\Python'"
      ]
     },
     "execution_count": 1,
     "metadata": {},
     "output_type": "execute_result"
    }
   ],
   "source": [
    "# OS - provides a way to interact with operating system. \n",
    "# OS perform system related tasks such as file and directory operatios, environment var and more\n",
    "# SYS - provides access to some var used or maintained by python interpreter- commonly used for command line arguments\n",
    "import os \n",
    "current_dir = os.getcwd()\n",
    "current_dir"
   ]
  },
  {
   "cell_type": "code",
   "execution_count": 2,
   "metadata": {},
   "outputs": [
    {
     "data": {
      "text/plain": [
       "['.git',\n",
       " '01-Identifiers - variables.ipynb',\n",
       " '02-Primitive Data Types, type casting, slicing.ipynb',\n",
       " '03-composite- list, tuple, set, dictionary.ipynb',\n",
       " '04-Operators.ipynb',\n",
       " '05-String Manipulation.ipynb',\n",
       " '06-Control Flow (Conditions and Loos)',\n",
       " '08-global and local variable.ipynb',\n",
       " '09-OOP',\n",
       " '10-Decorator and Generator.ipynb',\n",
       " '11-Debugging.ipynb',\n",
       " '12-filing.ipynb',\n",
       " '13-inheritence.ipynb',\n",
       " '14-polymorphism.ipynb',\n",
       " '15-first_class_functions.ipynb',\n",
       " '16-Higher_Order_functions.ipynb',\n",
       " '17-Generators.ipynb',\n",
       " '18-merge_groupby_join.ipynb',\n",
       " '19-OS_SYS_DateTime.ipynb',\n",
       " 'abc.txt',\n",
       " 'abcd.txt',\n",
       " 'Functions',\n",
       " 'LICENSE',\n",
       " 'Logic building questions',\n",
       " 'pandas.xlsx',\n",
       " 'README.md']"
      ]
     },
     "execution_count": 2,
     "metadata": {},
     "output_type": "execute_result"
    }
   ],
   "source": [
    "# list files in a directory\n",
    "files = os.listdir(current_dir)\n",
    "files"
   ]
  },
  {
   "cell_type": "code",
   "execution_count": 3,
   "metadata": {},
   "outputs": [],
   "source": [
    "# create a new drectory\n",
    "new_dir = 'test'\n",
    "os.mkdir(new_dir)"
   ]
  },
  {
   "cell_type": "code",
   "execution_count": 4,
   "metadata": {},
   "outputs": [],
   "source": [
    "# rename a file\n",
    "old_name = 'test'\n",
    "new_name = 'test1'\n",
    "os.rename(old_name, new_name)"
   ]
  },
  {
   "cell_type": "code",
   "execution_count": 6,
   "metadata": {},
   "outputs": [],
   "source": [
    "# remove the drectory\n",
    "os.rmdir('test1')"
   ]
  },
  {
   "cell_type": "code",
   "execution_count": 7,
   "metadata": {},
   "outputs": [
    {
     "name": "stdout",
     "output_type": "stream",
     "text": [
      "Command line arguments:  ['c:\\\\Users\\\\Bhao\\\\Anaconda3\\\\Anaconda33\\\\Lib\\\\site-packages\\\\ipykernel_launcher.py', '--ip=127.0.0.1', '--stdin=9028', '--control=9026', '--hb=9025', '--Session.signature_scheme=\"hmac-sha256\"', '--Session.key=b\"5d3e1ea4-be4d-4179-b376-284ff76ad233\"', '--shell=9027', '--transport=\"tcp\"', '--iopub=9029', '--f=c:\\\\Users\\\\Bhao\\\\AppData\\\\Roaming\\\\jupyter\\\\runtime\\\\kernel-v2-8952tiLH90qYl8fs.json']\n"
     ]
    }
   ],
   "source": [
    "import sys\n",
    "print('Command line arguments: ', sys.argv)"
   ]
  },
  {
   "cell_type": "code",
   "execution_count": 11,
   "metadata": {},
   "outputs": [
    {
     "name": "stdout",
     "output_type": "stream",
     "text": [
      "2023-11-09 18:59:37.746619\n"
     ]
    }
   ],
   "source": [
    "from datetime import datetime as dt\n",
    "current_datetime = dt.now()\n",
    "print(current_datetime)"
   ]
  },
  {
   "cell_type": "code",
   "execution_count": 12,
   "metadata": {},
   "outputs": [
    {
     "data": {
      "text/plain": [
       "'23-11-09 18:59:37'"
      ]
     },
     "execution_count": 12,
     "metadata": {},
     "output_type": "execute_result"
    }
   ],
   "source": [
    "# format datetime\n",
    "formated_date = current_datetime.strftime(\"%y-%m-%d %H:%M:%S\")\n",
    "formated_date"
   ]
  },
  {
   "cell_type": "code",
   "execution_count": null,
   "metadata": {},
   "outputs": [],
   "source": []
  }
 ],
 "metadata": {
  "kernelspec": {
   "display_name": "base",
   "language": "python",
   "name": "python3"
  },
  "language_info": {
   "codemirror_mode": {
    "name": "ipython",
    "version": 3
   },
   "file_extension": ".py",
   "mimetype": "text/x-python",
   "name": "python",
   "nbconvert_exporter": "python",
   "pygments_lexer": "ipython3",
   "version": "3.11.3"
  },
  "orig_nbformat": 4
 },
 "nbformat": 4,
 "nbformat_minor": 2
}
