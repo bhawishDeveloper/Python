{
 "cells": [
  {
   "cell_type": "code",
   "execution_count": 1,
   "metadata": {},
   "outputs": [],
   "source": [
    "# process of identifying and fixing the bug\n",
    "# we can do debugging using print() statement but after fixing it remains printing in runtime so to handle this problem we use ASSERT\n",
    "# after fixing the bug we don't have to remove assert statement but we can do enable and disable \n",
    "# assertion is applicable for dev and test environment but not for production env\n",
    "# types of assertion\n",
    "# 1) Simple version ,   \n",
    "# assert conditional_expression\n",
    "# 2)Augmented version\n",
    "# assert conditional_expression,message"
   ]
  },
  {
   "cell_type": "code",
   "execution_count": 5,
   "metadata": {},
   "outputs": [
    {
     "ename": "AssertionError",
     "evalue": "The Square of 3 should be 9",
     "output_type": "error",
     "traceback": [
      "\u001b[1;31m---------------------------------------------------------------------------\u001b[0m",
      "\u001b[1;31mAssertionError\u001b[0m                            Traceback (most recent call last)",
      "\u001b[1;32mc:\\Users\\Bhao\\jupyter data science\\Python Course\\Python\\Python\\11-Debugging.ipynb Cell 2\u001b[0m line \u001b[0;36m4\n\u001b[0;32m      <a href='vscode-notebook-cell:/c%3A/Users/Bhao/jupyter%20data%20science/Python%20Course/Python/Python/11-Debugging.ipynb#W1sZmlsZQ%3D%3D?line=1'>2</a>\u001b[0m     \u001b[39mreturn\u001b[39;00m x\u001b[39m*\u001b[39m\u001b[39m*\u001b[39mx\n\u001b[0;32m      <a href='vscode-notebook-cell:/c%3A/Users/Bhao/jupyter%20data%20science/Python%20Course/Python/Python/11-Debugging.ipynb#W1sZmlsZQ%3D%3D?line=2'>3</a>\u001b[0m \u001b[39massert\u001b[39;00m sq(\u001b[39m2\u001b[39m)\u001b[39m==\u001b[39m\u001b[39m4\u001b[39m, \u001b[39m'\u001b[39m\u001b[39mThe Square of 2 should be 4\u001b[39m\u001b[39m'\u001b[39m\n\u001b[1;32m----> <a href='vscode-notebook-cell:/c%3A/Users/Bhao/jupyter%20data%20science/Python%20Course/Python/Python/11-Debugging.ipynb#W1sZmlsZQ%3D%3D?line=3'>4</a>\u001b[0m \u001b[39massert\u001b[39;00m sq(\u001b[39m3\u001b[39m)\u001b[39m==\u001b[39m\u001b[39m9\u001b[39m, \u001b[39m'\u001b[39m\u001b[39mThe Square of 3 should be 9\u001b[39m\u001b[39m'\u001b[39m\n\u001b[0;32m      <a href='vscode-notebook-cell:/c%3A/Users/Bhao/jupyter%20data%20science/Python%20Course/Python/Python/11-Debugging.ipynb#W1sZmlsZQ%3D%3D?line=4'>5</a>\u001b[0m \u001b[39massert\u001b[39;00m sq(\u001b[39m4\u001b[39m)\u001b[39m==\u001b[39m\u001b[39m16\u001b[39m, \u001b[39m'\u001b[39m\u001b[39mThe Square of 4 should be 16\u001b[39m\u001b[39m'\u001b[39m\n\u001b[0;32m      <a href='vscode-notebook-cell:/c%3A/Users/Bhao/jupyter%20data%20science/Python%20Course/Python/Python/11-Debugging.ipynb#W1sZmlsZQ%3D%3D?line=6'>7</a>\u001b[0m \u001b[39mprint\u001b[39m(sq(\u001b[39m2\u001b[39m))\n",
      "\u001b[1;31mAssertionError\u001b[0m: The Square of 3 should be 9"
     ]
    }
   ],
   "source": [
    "def sq(x):\n",
    "    return x**x\n",
    "assert sq(2)==4, 'The Square of 2 should be 4'\n",
    "assert sq(3)==9, 'The Square of 3 should be 9'\n",
    "assert sq(4)==16, 'The Square of 4 should be 16'\n",
    "\n",
    "print(sq(2))\n",
    "print(sq(3))\n",
    "print(sq(4))"
   ]
  },
  {
   "cell_type": "code",
   "execution_count": 7,
   "metadata": {},
   "outputs": [
    {
     "name": "stdout",
     "output_type": "stream",
     "text": [
      "4\n",
      "9\n",
      "16\n"
     ]
    }
   ],
   "source": [
    "def sq(x):\n",
    "    return x*x\n",
    "assert sq(2)==4, 'The Square of 2 should be 4'\n",
    "assert sq(3)==9, 'The Square of 3 should be 9'\n",
    "assert sq(4)==16, 'The Square of 4 should be 16'\n",
    "    \n",
    "print(sq(2))\n",
    "print(sq(3))\n",
    "print(sq(4))"
   ]
  },
  {
   "cell_type": "code",
   "execution_count": 8,
   "metadata": {},
   "outputs": [],
   "source": [
    "# Exception handling is used to solve run time errors while assertion is used to alert programmer to solve development time error"
   ]
  }
 ],
 "metadata": {
  "kernelspec": {
   "display_name": "base",
   "language": "python",
   "name": "python3"
  },
  "language_info": {
   "codemirror_mode": {
    "name": "ipython",
    "version": 3
   },
   "file_extension": ".py",
   "mimetype": "text/x-python",
   "name": "python",
   "nbconvert_exporter": "python",
   "pygments_lexer": "ipython3",
   "version": "3.11.3"
  },
  "orig_nbformat": 4
 },
 "nbformat": 4,
 "nbformat_minor": 2
}
