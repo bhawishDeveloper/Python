{
 "cells": [
  {
   "cell_type": "code",
   "execution_count": 2,
   "metadata": {},
   "outputs": [
    {
     "name": "stdout",
     "output_type": "stream",
     "text": [
      "We are diving 20 with 2\n",
      "10.0\n",
      "We are diving 10 with 0\n",
      "OOPs.. cannot divide\n",
      "None\n"
     ]
    }
   ],
   "source": [
    "# decorators are used to extend the functionality of existing functions without modifying that function\n",
    "def smart_div(func):\n",
    "    def inner(a,b):\n",
    "        print('We are diving', a, 'with', b)\n",
    "        if b == 0:\n",
    "            print('OOPs.. cannot divide')\n",
    "            return\n",
    "        else:\n",
    "            return func(a,b) \n",
    "    return inner \n",
    "@smart_div\n",
    "def division(a,b):\n",
    "    return a/b\n",
    "print(division(20,2))\n",
    "print(division(10,0))"
   ]
  },
  {
   "cell_type": "code",
   "execution_count": 3,
   "metadata": {},
   "outputs": [
    {
     "name": "stdout",
     "output_type": "stream",
     "text": [
      "===========\n",
      "Good Morning!\n",
      "===========\n"
     ]
    }
   ],
   "source": [
    "# Define a decorator function\n",
    "def my_decorator(func):\n",
    "    def wrapper():\n",
    "        print(\"===========\")\n",
    "        func()\n",
    "        print(\"===========\")\n",
    "    return wrapper\n",
    "\n",
    "# Define a function and apply the decorator to it\n",
    "@my_decorator\n",
    "def say_hello():\n",
    "    print(\"Good Morning!\")\n",
    "\n",
    "# Call the decorated function\n",
    "say_hello()\n"
   ]
  },
  {
   "cell_type": "markdown",
   "metadata": {},
   "source": [
    "Generator"
   ]
  },
  {
   "cell_type": "code",
   "execution_count": 8,
   "metadata": {},
   "outputs": [
    {
     "name": "stdout",
     "output_type": "stream",
     "text": [
      "Start Countdowm\n",
      "5\n",
      "4\n",
      "3\n",
      "2\n",
      "1\n",
      "<class 'generator'>\n"
     ]
    }
   ],
   "source": [
    "# it is a function, responsible to generate a sequence of values\n",
    "def countdown(n):\n",
    "    print('Start Countdowm')\n",
    "    while(n>0):\n",
    "        yield n\n",
    "        n = n-1\n",
    "val = countdown(5)\n",
    "for i in val:\n",
    "    print(i)\n",
    "print(type(val))"
   ]
  },
  {
   "cell_type": "code",
   "execution_count": 3,
   "metadata": {},
   "outputs": [
    {
     "name": "stdout",
     "output_type": "stream",
     "text": [
      "1\n",
      "2\n",
      "3\n"
     ]
    }
   ],
   "source": [
    "# Define a generator function\n",
    "def simple_generator():\n",
    "    yield 1\n",
    "    yield 2\n",
    "    yield 3\n",
    "\n",
    "# Create a generator object\n",
    "my_generator = simple_generator()\n",
    "\n",
    "# Iterate over the generator to yield values\n",
    "for value in my_generator:\n",
    "    print(value)\n"
   ]
  },
  {
   "cell_type": "code",
   "execution_count": 11,
   "metadata": {},
   "outputs": [
    {
     "name": "stdout",
     "output_type": "stream",
     "text": [
      "0\n",
      "1\n",
      "1\n",
      "2\n",
      "3\n",
      "5\n",
      "8\n",
      "13\n",
      "21\n",
      "34\n"
     ]
    }
   ],
   "source": [
    "# Fibonacci Series\n",
    "def fib():\n",
    "    a,b=0,1\n",
    "    while True:\n",
    "        yield a\n",
    "        a,b = b,a+b\n",
    "for f in fib():\n",
    "    if f>50:\n",
    "        break\n",
    "    print(f) "
   ]
  },
  {
   "cell_type": "code",
   "execution_count": null,
   "metadata": {},
   "outputs": [],
   "source": []
  }
 ],
 "metadata": {
  "kernelspec": {
   "display_name": "base",
   "language": "python",
   "name": "python3"
  },
  "language_info": {
   "codemirror_mode": {
    "name": "ipython",
    "version": 3
   },
   "file_extension": ".py",
   "mimetype": "text/x-python",
   "name": "python",
   "nbconvert_exporter": "python",
   "pygments_lexer": "ipython3",
   "version": "3.11.3"
  },
  "orig_nbformat": 4
 },
 "nbformat": 4,
 "nbformat_minor": 2
}
