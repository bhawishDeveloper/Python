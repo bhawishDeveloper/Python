{
 "cells": [
  {
   "cell_type": "code",
   "execution_count": 1,
   "id": "c462d81a",
   "metadata": {},
   "outputs": [],
   "source": [
    "# only allowed\n",
    "# alphabed symbols\n",
    "# digit (0-9)\n",
    "# underscore (_)"
   ]
  },
  {
   "cell_type": "code",
   "execution_count": null,
   "id": "860e3a8c",
   "metadata": {},
   "outputs": [],
   "source": [
    "cash = 10"
   ]
  },
  {
   "cell_type": "code",
   "execution_count": 2,
   "id": "354defd4",
   "metadata": {},
   "outputs": [
    {
     "ename": "SyntaxError",
     "evalue": "invalid syntax (3648802222.py, line 1)",
     "output_type": "error",
     "traceback": [
      "\u001b[1;36m  Cell \u001b[1;32mIn[2], line 1\u001b[1;36m\u001b[0m\n\u001b[1;33m    ca$h = 10\u001b[0m\n\u001b[1;37m      ^\u001b[0m\n\u001b[1;31mSyntaxError\u001b[0m\u001b[1;31m:\u001b[0m invalid syntax\n"
     ]
    }
   ],
   "source": [
    "ca$h = 10"
   ]
  },
  {
   "cell_type": "code",
   "execution_count": 3,
   "id": "04a7d414",
   "metadata": {},
   "outputs": [],
   "source": [
    "cash123 = 10"
   ]
  },
  {
   "cell_type": "code",
   "execution_count": 4,
   "id": "d4d15797",
   "metadata": {},
   "outputs": [
    {
     "ename": "SyntaxError",
     "evalue": "invalid decimal literal (2189994127.py, line 1)",
     "output_type": "error",
     "traceback": [
      "\u001b[1;36m  Cell \u001b[1;32mIn[4], line 1\u001b[1;36m\u001b[0m\n\u001b[1;33m    123cash = 10\u001b[0m\n\u001b[1;37m      ^\u001b[0m\n\u001b[1;31mSyntaxError\u001b[0m\u001b[1;31m:\u001b[0m invalid decimal literal\n"
     ]
    }
   ],
   "source": [
    "123cash = 10"
   ]
  },
  {
   "cell_type": "markdown",
   "id": "a5ae3f3f",
   "metadata": {},
   "source": [
    "# identifiers are case sensitive"
   ]
  },
  {
   "cell_type": "code",
   "execution_count": 5,
   "id": "03607c78",
   "metadata": {},
   "outputs": [
    {
     "name": "stdout",
     "output_type": "stream",
     "text": [
      "9\n",
      "10\n"
     ]
    }
   ],
   "source": [
    "num = 9\n",
    "NUM = 10\n",
    "print(num)\n",
    "print(NUM)"
   ]
  },
  {
   "cell_type": "markdown",
   "id": "1575d197",
   "metadata": {},
   "source": [
    "# can not use reserved words"
   ]
  },
  {
   "cell_type": "code",
   "execution_count": 7,
   "id": "ba5251b3",
   "metadata": {},
   "outputs": [
    {
     "ename": "SyntaxError",
     "evalue": "invalid syntax (3594483855.py, line 1)",
     "output_type": "error",
     "traceback": [
      "\u001b[1;36m  Cell \u001b[1;32mIn[7], line 1\u001b[1;36m\u001b[0m\n\u001b[1;33m    def = 10\u001b[0m\n\u001b[1;37m        ^\u001b[0m\n\u001b[1;31mSyntaxError\u001b[0m\u001b[1;31m:\u001b[0m invalid syntax\n"
     ]
    }
   ],
   "source": [
    "def = 10"
   ]
  },
  {
   "cell_type": "markdown",
   "id": "b1bd1f33",
   "metadata": {},
   "source": [
    "# if identifier starts with \"_\" then its private, if \"__\" double underscore then strongly private "
   ]
  },
  {
   "cell_type": "code",
   "execution_count": 16,
   "id": "7cc2d533",
   "metadata": {},
   "outputs": [],
   "source": [
    "# private \n",
    "_num = 10"
   ]
  },
  {
   "cell_type": "code",
   "execution_count": 17,
   "id": "d92ea010",
   "metadata": {},
   "outputs": [],
   "source": [
    "# strongly private\n",
    "__num1 = 10\n"
   ]
  },
  {
   "cell_type": "code",
   "execution_count": null,
   "id": "24997f70",
   "metadata": {},
   "outputs": [],
   "source": []
  }
 ],
 "metadata": {
  "kernelspec": {
   "display_name": "Python 3",
   "language": "python",
   "name": "python3"
  },
  "language_info": {
   "codemirror_mode": {
    "name": "ipython",
    "version": 3
   },
   "file_extension": ".py",
   "mimetype": "text/x-python",
   "name": "python",
   "nbconvert_exporter": "python",
   "pygments_lexer": "ipython3",
   "version": "3.11.3"
  }
 },
 "nbformat": 4,
 "nbformat_minor": 5
}
