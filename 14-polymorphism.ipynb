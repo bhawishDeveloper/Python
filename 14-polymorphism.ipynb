{
 "cells": [
  {
   "cell_type": "code",
   "execution_count": 3,
   "metadata": {},
   "outputs": [
    {
     "name": "stdout",
     "output_type": "stream",
     "text": [
      "Quack.. Quack..\n",
      "Bow.. Bow..\n",
      "Moew.. Moew..\n",
      "Myaah.. Myaah..\n"
     ]
    }
   ],
   "source": [
    "# many forms\n",
    "# Overloading (operator, constructor and method overloading)\n",
    "# Overriding (method and constructos overriding)\n",
    "# Duck-Type philosophy\n",
    "class duck:\n",
    "    def talk(self):\n",
    "        print('Quack.. Quack..')\n",
    "class dog:\n",
    "    def talk(self):\n",
    "        print('Bow.. Bow..')\n",
    "class cat:\n",
    "    def talk(self):\n",
    "        print('Moew.. Moew..')\n",
    "class goat:\n",
    "    def talk(self):\n",
    "        print('Myaah.. Myaah..')\n",
    "\n",
    "def f1(obj):\n",
    "    obj.talk()\n",
    "\n",
    "l = [duck(),dog(),cat(),goat()]\n",
    "for obj in l:\n",
    "    f1(obj)"
   ]
  },
  {
   "cell_type": "markdown",
   "metadata": {},
   "source": [
    "hasattr()"
   ]
  },
  {
   "cell_type": "code",
   "execution_count": 4,
   "metadata": {},
   "outputs": [
    {
     "name": "stdout",
     "output_type": "stream",
     "text": [
      "Quack.. Quack..\n",
      "Hello..\n",
      "Bow.. Bow..\n"
     ]
    }
   ],
   "source": [
    "class duck:\n",
    "    def talk(self):\n",
    "        print('Quack.. Quack..')\n",
    "class dog:\n",
    "    def bark(self):\n",
    "        print('Bow.. Bow..')\n",
    "class Human:\n",
    "    def talk(self):\n",
    "        print('Hello..')\n",
    "\n",
    "def f1(obj):\n",
    "    if hasattr(obj,'talk'):\n",
    "        obj.talk()\n",
    "    elif hasattr(obj, 'bark'):\n",
    "        obj.bark()\n",
    "\n",
    "d = duck()\n",
    "f1(d)\n",
    "h = Human()\n",
    "f1(h)\n",
    "dg = dog()\n",
    "f1(dg)"
   ]
  },
  {
   "cell_type": "markdown",
   "metadata": {},
   "source": [
    "OVERLOADING"
   ]
  },
  {
   "cell_type": "code",
   "execution_count": 7,
   "metadata": {},
   "outputs": [
    {
     "name": "stdout",
     "output_type": "stream",
     "text": [
      "200\n"
     ]
    }
   ],
   "source": [
    "# we can use same method and operators for different purposes\n",
    "# operaotor, constructor and method overloading\n",
    "# for every operator magic methods are available\n",
    "class book:\n",
    "    def __init__(self, pages):\n",
    "        self.pages = pages \n",
    "    def __add__(self,other):\n",
    "        return self.pages + self.pages\n",
    "b1 = book(100)\n",
    "b2 = book(200)\n",
    "print(b1+b2)"
   ]
  },
  {
   "cell_type": "code",
   "execution_count": null,
   "metadata": {},
   "outputs": [],
   "source": []
  }
 ],
 "metadata": {
  "kernelspec": {
   "display_name": "base",
   "language": "python",
   "name": "python3"
  },
  "language_info": {
   "codemirror_mode": {
    "name": "ipython",
    "version": 3
   },
   "file_extension": ".py",
   "mimetype": "text/x-python",
   "name": "python",
   "nbconvert_exporter": "python",
   "pygments_lexer": "ipython3",
   "version": "3.11.3"
  },
  "orig_nbformat": 4
 },
 "nbformat": 4,
 "nbformat_minor": 2
}
