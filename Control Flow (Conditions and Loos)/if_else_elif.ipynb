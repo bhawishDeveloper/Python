{
 "cells": [
  {
   "cell_type": "markdown",
   "metadata": {},
   "source": [
    "# If Statement"
   ]
  },
  {
   "cell_type": "markdown",
   "metadata": {},
   "source": [
    "# The if statement is the most simple decision-making statement. \n",
    "# It is used to decide whether a certain statement or block of statements will be executed or not."
   ]
  },
  {
   "cell_type": "code",
   "execution_count": 3,
   "metadata": {},
   "outputs": [
    {
     "name": "stdout",
     "output_type": "stream",
     "text": [
      "I am Not in if\n"
     ]
    }
   ],
   "source": [
    "i = 10\n",
    "if (i > 11):\n",
    "    print(\"10 is less than 11\")\n",
    "print(\"I am Not in if\")"
   ]
  },
  {
   "cell_type": "code",
   "execution_count": 8,
   "metadata": {},
   "outputs": [
    {
     "name": "stdout",
     "output_type": "stream",
     "text": [
      "i is greater than 10\n",
      "I'm not in if else Block\n"
     ]
    }
   ],
   "source": [
    "i = 12\n",
    "if (i < 10):\n",
    "    print(\"i is smaller than 10\")\n",
    "else:\n",
    "    print(\"i is greater than 10\")\n",
    "print(\"I'm not in if else Block\")"
   ]
  },
  {
   "cell_type": "code",
   "execution_count": 7,
   "metadata": {},
   "outputs": [
    {
     "name": "stdout",
     "output_type": "stream",
     "text": [
      "i is smaller than 15\n",
      "i is smaller than 12 too\n"
     ]
    }
   ],
   "source": [
    "# Nested if \n",
    "i = 12\n",
    "if (i == 12):\n",
    "    if (i < 17):\n",
    "        print(\"i is smaller than 15\")\n",
    "\n",
    "    # Will only be executed if statement above is true\n",
    "    if (i < 14):\n",
    "        print(\"i is smaller than 12 too\")\n",
    "    else:\n",
    "        print(\"i is greater than 15\")"
   ]
  },
  {
   "cell_type": "code",
   "execution_count": 9,
   "metadata": {},
   "outputs": [
    {
     "name": "stdout",
     "output_type": "stream",
     "text": [
      "i is 25\n"
     ]
    }
   ],
   "source": [
    "# elif statmenet\n",
    "i = 25\n",
    "if (i == 15):\n",
    "    print(\"i is 15\")\n",
    "elif (i == 20):\n",
    "    print(\"i is 20\")\n",
    "elif (i == 25):\n",
    "    print(\"i is 25\")\n",
    "else:\n",
    "    print(\"i is not present\")"
   ]
  },
  {
   "cell_type": "code",
   "execution_count": 16,
   "metadata": {},
   "outputs": [
    {
     "name": "stdout",
     "output_type": "stream",
     "text": [
      "Y is biggest\n"
     ]
    }
   ],
   "source": [
    "# write a program to find biggest of 3 input from comand prompt\n",
    "x = int(input(\"Enter first number: \"))\n",
    "y = int(input(\"Enter second number: \"))\n",
    "z = int(input(\"Enter third number: \"))\n",
    "\n",
    "if x>y and x>z:\n",
    "    print('X is biggest number')\n",
    "elif y>z:\n",
    "    print('Y is biggest')\n",
    "else:\n",
    "    print('Z is biggest number')"
   ]
  },
  {
   "cell_type": "code",
   "execution_count": 11,
   "metadata": {},
   "outputs": [
    {
     "name": "stdout",
     "output_type": "stream",
     "text": [
      "i is less than 17\n"
     ]
    }
   ],
   "source": [
    "# Short Hand if statement\n",
    "i = 15\n",
    "if i < 17: print(\"i is less than 17\")"
   ]
  },
  {
   "cell_type": "code",
   "execution_count": 12,
   "metadata": {},
   "outputs": [
    {
     "name": "stdout",
     "output_type": "stream",
     "text": [
      "True\n"
     ]
    }
   ],
   "source": [
    "i = 12\n",
    "print(True) if i < 17 else print(False)"
   ]
  },
  {
   "cell_type": "code",
   "execution_count": 22,
   "metadata": {},
   "outputs": [
    {
     "name": "stdout",
     "output_type": "stream",
     "text": [
      "Five\n"
     ]
    }
   ],
   "source": [
    "# program to take single digit number from keyboard and print its value in english\n",
    "x = int(input('Enter any digit from 0 to 9: '))\n",
    "if x==0:\n",
    "    print(\"Zero\")\n",
    "elif x == 1:\n",
    "    print('One')\n",
    "elif x == 2:\n",
    "    print('Two')\n",
    "elif x == 3:\n",
    "    print('Three')\n",
    "elif x == 4:\n",
    "    print('Four')\n",
    "elif x == 5:\n",
    "    print('Five')\n",
    "elif x == 6:\n",
    "    print('Six')\n",
    "elif x == 7:\n",
    "    print('Seven')\n",
    "elif x == 8:\n",
    "    print('Eight')\n",
    "elif x == 9:\n",
    "    print('Nine')\n",
    "else:\n",
    "    print('Please Enter any digit from 0 to 9: ')"
   ]
  },
  {
   "cell_type": "code",
   "execution_count": null,
   "metadata": {},
   "outputs": [],
   "source": []
  }
 ],
 "metadata": {
  "kernelspec": {
   "display_name": "base",
   "language": "python",
   "name": "python3"
  },
  "language_info": {
   "codemirror_mode": {
    "name": "ipython",
    "version": 3
   },
   "file_extension": ".py",
   "mimetype": "text/x-python",
   "name": "python",
   "nbconvert_exporter": "python",
   "pygments_lexer": "ipython3",
   "version": "3.11.3"
  },
  "orig_nbformat": 4
 },
 "nbformat": 4,
 "nbformat_minor": 2
}
