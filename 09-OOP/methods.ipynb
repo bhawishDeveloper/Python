{
 "cells": [
  {
   "cell_type": "code",
   "execution_count": 1,
   "metadata": {},
   "outputs": [],
   "source": [
    "# Instance method \n",
    "# class method \n",
    "# static method "
   ]
  },
  {
   "cell_type": "markdown",
   "metadata": {},
   "source": [
    "Instance Method"
   ]
  },
  {
   "cell_type": "code",
   "execution_count": 4,
   "metadata": {},
   "outputs": [],
   "source": [
    "# by using self variable as parameter we can declare instance method.\n",
    "# def m1(self):\n",
    "    #   print(self.var)"
   ]
  },
  {
   "cell_type": "code",
   "execution_count": 5,
   "metadata": {},
   "outputs": [],
   "source": [
    "# Setter and Getter\n",
    "# def setVar(self,name):\n",
    "#     self.name = name\n",
    "# def getName(self):\n",
    "#     return self.name"
   ]
  },
  {
   "cell_type": "markdown",
   "metadata": {},
   "source": [
    "Class Method"
   ]
  },
  {
   "cell_type": "code",
   "execution_count": 8,
   "metadata": {},
   "outputs": [
    {
     "name": "stdout",
     "output_type": "stream",
     "text": [
      "10 20\n"
     ]
    }
   ],
   "source": [
    "# if in a normal method we use only class/static variable then that method automatically considered as class method \n",
    "# @classmethod -- declare explicitly\n",
    "class test:\n",
    "    a = 10\n",
    "    @classmethod\n",
    "    def m1(cls,b):\n",
    "        print(cls.a,b)\n",
    "obj = test()\n",
    "obj.m1(20)  \n"
   ]
  },
  {
   "cell_type": "code",
   "execution_count": 10,
   "metadata": {},
   "outputs": [
    {
     "name": "stdout",
     "output_type": "stream",
     "text": [
      "No of objects are:  2\n",
      "No of objects are:  4\n"
     ]
    }
   ],
   "source": [
    "# program to track the number of objects\n",
    "class test:\n",
    "    count = 0\n",
    "    def __init__(self):\n",
    "        test.count = test.count+1\n",
    "    @classmethod\n",
    "    def noOfObj(cls):\n",
    "        print('No of objects are: ', cls.count)\n",
    "\n",
    "obj = test()\n",
    "obj1 = test()\n",
    "test.noOfObj()\n",
    "\n",
    "obj2 = test()\n",
    "obj3 = test()\n",
    "test.noOfObj()"
   ]
  },
  {
   "cell_type": "markdown",
   "metadata": {},
   "source": [
    "Static Method "
   ]
  },
  {
   "cell_type": "code",
   "execution_count": 11,
   "metadata": {},
   "outputs": [],
   "source": [
    "# General Utility Methods\n",
    "# inside these methods we dont use any instance or class variable\n",
    "# dont provide self of cls argument at the time of declaration\n",
    "# declare static method explicitly by decorator - @decorator\n",
    "# can be accessed by className or object reference\n"
   ]
  },
  {
   "cell_type": "code",
   "execution_count": 13,
   "metadata": {},
   "outputs": [
    {
     "name": "stdout",
     "output_type": "stream",
     "text": [
      "The sum is:  11\n",
      "The subtraction is:  2\n"
     ]
    }
   ],
   "source": [
    "class calc:\n",
    "    @staticmethod\n",
    "    def add(x,y):\n",
    "        print('The sum is: ', x+y)\n",
    "\n",
    "    @staticmethod\n",
    "    def sub(x,y):\n",
    "         print('The subtraction is: ', x-y)\n",
    "calc.add(5,6)\n",
    "calc.sub(9,7)"
   ]
  },
  {
   "cell_type": "markdown",
   "metadata": {},
   "source": [
    "Passing members of one class to another class"
   ]
  },
  {
   "cell_type": "code",
   "execution_count": 15,
   "metadata": {},
   "outputs": [
    {
     "name": "stdout",
     "output_type": "stream",
     "text": [
      "Employee No:  101\n",
      "Employee Name:  raj\n",
      "Employee Salary:  115000\n"
     ]
    }
   ],
   "source": [
    "class emp:\n",
    "    def __init__(self, eno, ename, esal):\n",
    "        self.eno = eno\n",
    "        self.ename = ename \n",
    "        self.esal = esal \n",
    "    def display(self):\n",
    "        print('Employee No: ', self.eno)\n",
    "        print('Employee Name: ', self.ename)\n",
    "        print('Employee Salary: ', self.esal)\n",
    "class test:\n",
    "    def modify(em):\n",
    "        em.esal = em.esal + 15000\n",
    "        em.display()\n",
    "obj = emp(101, 'raj', 100000)\n",
    "test.modify(obj)"
   ]
  },
  {
   "cell_type": "markdown",
   "metadata": {},
   "source": [
    "Inner classes"
   ]
  },
  {
   "cell_type": "code",
   "execution_count": 17,
   "metadata": {},
   "outputs": [
    {
     "name": "stdout",
     "output_type": "stream",
     "text": [
      "Outer class object created\n",
      "Inner class object created\n",
      "Inner class method\n"
     ]
    }
   ],
   "source": [
    "# sometimes we declare class inside a class \n",
    "# without creating object of outer class we can not create obj of inner class\n",
    "class outer:\n",
    "    def __init__(self):\n",
    "        print('Outer class object created')\n",
    "    class inner():\n",
    "        def __init__(self):\n",
    "            print('Inner class object created')\n",
    "        def m1(self):\n",
    "            print('Inner class method')\n",
    "\n",
    "o = outer()\n",
    "i = o.inner()\n",
    "i.m1()"
   ]
  },
  {
   "cell_type": "code",
   "execution_count": 18,
   "metadata": {},
   "outputs": [
    {
     "name": "stdout",
     "output_type": "stream",
     "text": [
      "Outer class object created\n",
      "Inner class object created\n",
      "Inner class method\n"
     ]
    }
   ],
   "source": [
    "i = outer().inner()\n",
    "i.m1()"
   ]
  },
  {
   "cell_type": "code",
   "execution_count": 19,
   "metadata": {},
   "outputs": [
    {
     "name": "stdout",
     "output_type": "stream",
     "text": [
      "Outer class object created\n",
      "Inner class object created\n",
      "Inner class method\n"
     ]
    }
   ],
   "source": [
    "outer().inner().m1()"
   ]
  },
  {
   "cell_type": "markdown",
   "metadata": {},
   "source": [
    "Garbage Collection"
   ]
  },
  {
   "cell_type": "code",
   "execution_count": 21,
   "metadata": {},
   "outputs": [
    {
     "name": "stdout",
     "output_type": "stream",
     "text": [
      "True\n",
      "False\n",
      "True\n"
     ]
    }
   ],
   "source": [
    "import gc\n",
    "print(gc.isenabled())\n",
    "\n",
    "gc.disable()\n",
    "print(gc.isenabled())\n",
    "\n",
    "gc.enable()\n",
    "print(gc.isenabled())"
   ]
  },
  {
   "cell_type": "markdown",
   "metadata": {},
   "source": [
    "Destructor"
   ]
  },
  {
   "cell_type": "code",
   "execution_count": 23,
   "metadata": {},
   "outputs": [
    {
     "name": "stdout",
     "output_type": "stream",
     "text": [
      "Object Initialization\n",
      "Performing cleanup activities\n",
      "End of application\n"
     ]
    }
   ],
   "source": [
    "import time\n",
    "class test:\n",
    "    def __init__(self):\n",
    "        print('Object Initialization')\n",
    "    def __del__(self):\n",
    "        print('Performing cleanup activities')\n",
    "t1 = test()\n",
    "t1 = None\n",
    "time.sleep(2)\n",
    "print('End of application')"
   ]
  },
  {
   "cell_type": "code",
   "execution_count": 24,
   "metadata": {},
   "outputs": [
    {
     "name": "stdout",
     "output_type": "stream",
     "text": [
      "Object Initialization\n",
      "Object Initialization\n",
      "Object Initialization\n",
      "Destructor Executed\n",
      "Destructor Executed\n",
      "Destructor Executed\n",
      "End of application\n"
     ]
    }
   ],
   "source": [
    "import time\n",
    "class test:\n",
    "    def __init__(self):\n",
    "        print('Object Initialization')\n",
    "    def __del__(self):\n",
    "        print('Destructor Executed')\n",
    "lst = [test(),test(), test()]\n",
    "del lst\n",
    "time.sleep(2)\n",
    "print('End of application')"
   ]
  },
  {
   "cell_type": "markdown",
   "metadata": {},
   "source": [
    "How to find number of references of object,"
   ]
  },
  {
   "cell_type": "code",
   "execution_count": 29,
   "metadata": {},
   "outputs": [
    {
     "name": "stdout",
     "output_type": "stream",
     "text": [
      "4\n"
     ]
    }
   ],
   "source": [
    "import sys\n",
    "class test:\n",
    "    pass\n",
    "\n",
    "t1 = test()\n",
    "t2 = t1\n",
    "t3 = t1\n",
    "print(sys.getrefcount(t2))"
   ]
  },
  {
   "cell_type": "code",
   "execution_count": null,
   "metadata": {},
   "outputs": [],
   "source": []
  }
 ],
 "metadata": {
  "kernelspec": {
   "display_name": "base",
   "language": "python",
   "name": "python3"
  },
  "language_info": {
   "codemirror_mode": {
    "name": "ipython",
    "version": 3
   },
   "file_extension": ".py",
   "mimetype": "text/x-python",
   "name": "python",
   "nbconvert_exporter": "python",
   "pygments_lexer": "ipython3",
   "version": "3.11.3"
  },
  "orig_nbformat": 4
 },
 "nbformat": 4,
 "nbformat_minor": 2
}
