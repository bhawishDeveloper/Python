{
 "cells": [
  {
   "cell_type": "code",
   "execution_count": 1,
   "metadata": {},
   "outputs": [],
   "source": [
    "# Instance method \n",
    "# class method \n",
    "# static method "
   ]
  },
  {
   "cell_type": "markdown",
   "metadata": {},
   "source": [
    "Instance Method"
   ]
  },
  {
   "cell_type": "code",
   "execution_count": 4,
   "metadata": {},
   "outputs": [],
   "source": [
    "# by using self variable as parameter we can declare instance method.\n",
    "# def m1(self):\n",
    "    #   print(self.var)"
   ]
  },
  {
   "cell_type": "code",
   "execution_count": 5,
   "metadata": {},
   "outputs": [],
   "source": [
    "# Setter and Getter\n",
    "# def setVar(self,name):\n",
    "#     self.name = name\n",
    "# def getName(self):\n",
    "#     return self.name"
   ]
  },
  {
   "cell_type": "markdown",
   "metadata": {},
   "source": [
    "Class Method"
   ]
  },
  {
   "cell_type": "code",
   "execution_count": 8,
   "metadata": {},
   "outputs": [
    {
     "name": "stdout",
     "output_type": "stream",
     "text": [
      "10 20\n"
     ]
    }
   ],
   "source": [
    "# if in a normal method we use only class/static variable then that method automatically considered as class method \n",
    "# @classmethod -- declare explicitly\n",
    "class test:\n",
    "    a = 10\n",
    "    @classmethod\n",
    "    def m1(cls,b):\n",
    "        print(cls.a,b)\n",
    "obj = test()\n",
    "obj.m1(20)  \n"
   ]
  },
  {
   "cell_type": "code",
   "execution_count": 10,
   "metadata": {},
   "outputs": [
    {
     "name": "stdout",
     "output_type": "stream",
     "text": [
      "No of objects are:  2\n",
      "No of objects are:  4\n"
     ]
    }
   ],
   "source": [
    "# program to track the number of objects\n",
    "class test:\n",
    "    count = 0\n",
    "    def __init__(self):\n",
    "        test.count = test.count+1\n",
    "    @classmethod\n",
    "    def noOfObj(cls):\n",
    "        print('No of objects are: ', cls.count)\n",
    "\n",
    "obj = test()\n",
    "obj1 = test()\n",
    "test.noOfObj()\n",
    "\n",
    "obj2 = test()\n",
    "obj3 = test()\n",
    "test.noOfObj()"
   ]
  },
  {
   "cell_type": "markdown",
   "metadata": {},
   "source": [
    "Static Method "
   ]
  },
  {
   "cell_type": "code",
   "execution_count": 11,
   "metadata": {},
   "outputs": [],
   "source": [
    "# General Utility Methods\n",
    "# inside these methods we dont use any instance or class variable\n",
    "# dont provide self of cls argument at the time of declaration\n",
    "# declare static method explicitly by decorator - @decorator\n",
    "# can be accessed by className or object reference\n"
   ]
  },
  {
   "cell_type": "code",
   "execution_count": 13,
   "metadata": {},
   "outputs": [
    {
     "name": "stdout",
     "output_type": "stream",
     "text": [
      "The sum is:  11\n",
      "The subtraction is:  2\n"
     ]
    }
   ],
   "source": [
    "class calc:\n",
    "    @staticmethod\n",
    "    def add(x,y):\n",
    "        print('The sum is: ', x+y)\n",
    "\n",
    "    @staticmethod\n",
    "    def sub(x,y):\n",
    "         print('The subtraction is: ', x-y)\n",
    "calc.add(5,6)\n",
    "calc.sub(9,7)"
   ]
  },
  {
   "cell_type": "code",
   "execution_count": null,
   "metadata": {},
   "outputs": [],
   "source": []
  }
 ],
 "metadata": {
  "kernelspec": {
   "display_name": "base",
   "language": "python",
   "name": "python3"
  },
  "language_info": {
   "codemirror_mode": {
    "name": "ipython",
    "version": 3
   },
   "file_extension": ".py",
   "mimetype": "text/x-python",
   "name": "python",
   "nbconvert_exporter": "python",
   "pygments_lexer": "ipython3",
   "version": "3.11.3"
  },
  "orig_nbformat": 4
 },
 "nbformat": 4,
 "nbformat_minor": 2
}
