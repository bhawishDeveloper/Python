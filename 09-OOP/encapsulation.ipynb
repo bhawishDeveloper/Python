{
 "cells": [
  {
   "cell_type": "code",
   "execution_count": 3,
   "metadata": {},
   "outputs": [
    {
     "name": "stdout",
     "output_type": "stream",
     "text": [
      "Selling Price:  900\n",
      "Selling Price:  900\n",
      "Selling Price:  1000\n"
     ]
    }
   ],
   "source": [
    "class computer:\n",
    "    def __init__(self):\n",
    "        self.__maxprice = 900   #strong private variable\n",
    "\n",
    "    def sell(self):\n",
    "        print(\"Selling Price: \", self.__maxprice)\n",
    "    \n",
    "    def setMaxPrice(self, price):\n",
    "        self.__maxprice = price   #only way to update private variable \n",
    "\n",
    "c = computer()\n",
    "c.sell()\n",
    "\n",
    "c.__maxprice = 1000\n",
    "c.sell()\n",
    "# after updating private variable\n",
    "c.setMaxPrice(1000)\n",
    "c.sell()"
   ]
  },
  {
   "cell_type": "code",
   "execution_count": null,
   "metadata": {},
   "outputs": [],
   "source": []
  }
 ],
 "metadata": {
  "kernelspec": {
   "display_name": "base",
   "language": "python",
   "name": "python3"
  },
  "language_info": {
   "codemirror_mode": {
    "name": "ipython",
    "version": 3
   },
   "file_extension": ".py",
   "mimetype": "text/x-python",
   "name": "python",
   "nbconvert_exporter": "python",
   "pygments_lexer": "ipython3",
   "version": "3.11.3"
  },
  "orig_nbformat": 4
 },
 "nbformat": 4,
 "nbformat_minor": 2
}
