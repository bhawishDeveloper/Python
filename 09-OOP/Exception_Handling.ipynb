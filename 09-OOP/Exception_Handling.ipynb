{
 "cells": [
  {
   "cell_type": "code",
   "execution_count": null,
   "metadata": {},
   "outputs": [],
   "source": [
    "# an unwanted and unexpected event that disturbs normal flow of program called exception\n",
    "# ZeroDivisionError\n",
    "# TypeError\n",
    "# ValueError\n",
    "# FileNotFoundError\n",
    "# EOFError\n",
    "# SleepingError\n",
    "# TyrePuncturedError\n",
    "# we have to define alternative way to continue rest of the program normally\n",
    "# Predefined exceptio and predefined exception"
   ]
  },
  {
   "cell_type": "code",
   "execution_count": 9,
   "metadata": {},
   "outputs": [],
   "source": [
    "# try:\n",
    "#     # risky code \n",
    "# except xxx:\n",
    "#     handling code/ alternative code "
   ]
  },
  {
   "cell_type": "code",
   "execution_count": 12,
   "metadata": {},
   "outputs": [
    {
     "name": "stdout",
     "output_type": "stream",
     "text": [
      "5.0\n",
      "Exception raised due to:  division by zero\n"
     ]
    }
   ],
   "source": [
    "try:\n",
    "    print(10/0)\n",
    "except ZeroDivisionError as msg:\n",
    "    print(10/2)\n",
    "    print('Exception raised due to: ', msg)\n"
   ]
  },
  {
   "cell_type": "code",
   "execution_count": 14,
   "metadata": {},
   "outputs": [
    {
     "name": "stdout",
     "output_type": "stream",
     "text": [
      "Exception raised due to:  division by zero \n",
      "can\"t divide by zero\n"
     ]
    }
   ],
   "source": [
    "try:\n",
    "    x = int(input('Enter first number: '))\n",
    "    y = int(input('Enter first number: '))\n",
    "    print(x/y)\n",
    "except ZeroDivisionError as msg:\n",
    "    print('Exception raised due to: ', msg, '\\ncan\"t divide by zero')\n",
    "except ValueError as msg:\n",
    "    print('Exception raise due to: ', msg)"
   ]
  },
  {
   "cell_type": "code",
   "execution_count": 15,
   "metadata": {},
   "outputs": [
    {
     "name": "stdout",
     "output_type": "stream",
     "text": [
      "Exception raised due to:  division by zero \n",
      "can\"t divide by zero\n"
     ]
    }
   ],
   "source": [
    "# single except block with multiple exceptions\n",
    "try:\n",
    "    x = int(input('Enter first number: '))\n",
    "    y = int(input('Enter first number: '))\n",
    "    print(x/y)\n",
    "except (ZeroDivisionError, ValueError) as msg:\n",
    "    print('Exception raised due to: ', msg, '\\ncan\"t divide by zero')\n"
   ]
  },
  {
   "cell_type": "code",
   "execution_count": 16,
   "metadata": {},
   "outputs": [
    {
     "name": "stdout",
     "output_type": "stream",
     "text": [
      "5.0\n"
     ]
    }
   ],
   "source": [
    "# Default Except\n",
    "try:\n",
    "    x = int(input('Enter first number: '))\n",
    "    y = int(input('Enter first number: '))\n",
    "    print(x/y)\n",
    "except (ZeroDivisionError, ValueError) as msg:\n",
    "    print('Exception raised due to: ', msg, '\\ncan\"t divide by zero')\n",
    "except:\n",
    "    print('Default Except')"
   ]
  },
  {
   "cell_type": "markdown",
   "metadata": {},
   "source": [
    "Finally "
   ]
  },
  {
   "cell_type": "code",
   "execution_count": 17,
   "metadata": {},
   "outputs": [],
   "source": [
    "# it is not recommended to maintain clean up code in except block, for clean up code we have finally block \n",
    "# it will be executed always weather except block raised or not raised \n",
    "# try:\n",
    "#     risky code \n",
    "# except:\n",
    "#     handling code \n",
    "# finally:\n",
    "#     cleanup code \n"
   ]
  },
  {
   "cell_type": "code",
   "execution_count": 18,
   "metadata": {},
   "outputs": [
    {
     "name": "stdout",
     "output_type": "stream",
     "text": [
      "try\n",
      "finally\n"
     ]
    }
   ],
   "source": [
    "try:\n",
    "    print('try') \n",
    "except:\n",
    "    print('except') \n",
    "finally:\n",
    "    print('finally') "
   ]
  },
  {
   "cell_type": "markdown",
   "metadata": {},
   "source": [
    "Else with try except"
   ]
  },
  {
   "cell_type": "code",
   "execution_count": 22,
   "metadata": {},
   "outputs": [
    {
     "name": "stdout",
     "output_type": "stream",
     "text": [
      "try\n",
      "Except\n",
      "Finally - cleanup code\n"
     ]
    }
   ],
   "source": [
    "try:\n",
    "    print('try')\n",
    "    print(10/0) \n",
    "except:\n",
    "    print('Except') \n",
    "else:\n",
    "    print('else')\n",
    "finally:\n",
    "    print('Finally - cleanup code')"
   ]
  },
  {
   "cell_type": "code",
   "execution_count": null,
   "metadata": {},
   "outputs": [],
   "source": [
    "# without except or finally block we can not write try block, write atleast except or finally block\n",
    "# for one try block we can write multiple except blocks but not mutiple finally block\n",
    "# without except block we can not write else block\n"
   ]
  }
 ],
 "metadata": {
  "kernelspec": {
   "display_name": "base",
   "language": "python",
   "name": "python3"
  },
  "language_info": {
   "codemirror_mode": {
    "name": "ipython",
    "version": 3
   },
   "file_extension": ".py",
   "mimetype": "text/x-python",
   "name": "python",
   "nbconvert_exporter": "python",
   "pygments_lexer": "ipython3",
   "version": "3.11.3"
  },
  "orig_nbformat": 4
 },
 "nbformat": 4,
 "nbformat_minor": 2
}
