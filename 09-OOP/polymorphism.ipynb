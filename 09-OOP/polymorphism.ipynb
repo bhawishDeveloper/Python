{
 "cells": [
  {
   "cell_type": "code",
   "execution_count": 24,
   "metadata": {},
   "outputs": [
    {
     "name": "stdout",
     "output_type": "stream",
     "text": [
      "Method with one argument:  2\n",
      "Method with two  argument:  5\n",
      "Method with three argument:  9\n"
     ]
    }
   ],
   "source": [
    "# Overloading example\n",
    "class MathOperations:\n",
    "    def add(self, a, b=0, c=0):\n",
    "        return a + b + c\n",
    "\n",
    "math = MathOperations()\n",
    "print('Method with one argument: ', math.add(2))          # Output: 2\n",
    "print('Method with two  argument: ', math.add(2, 3))       # Output: 5\n",
    "print('Method with three argument: ', math.add(2, 3, 4))    # Output: 9\n"
   ]
  },
  {
   "cell_type": "markdown",
   "metadata": {},
   "source": [
    "# Overriding"
   ]
  },
  {
   "cell_type": "code",
   "execution_count": 26,
   "metadata": {},
   "outputs": [
    {
     "name": "stdout",
     "output_type": "stream",
     "text": [
      "parrot can fly\n",
      "penguin can not fly\n"
     ]
    }
   ],
   "source": [
    "class parrot:\n",
    "    def fly(self):\n",
    "        print('parrot can fly')\n",
    "    def swim(self):\n",
    "        print('Parrot can not swim')\n",
    "class penguin:\n",
    "    def fly(self):\n",
    "        print('penguin can not fly')\n",
    "    def swim(self):\n",
    "        print('penguin can swim')\n",
    "def flying_test(bird):\n",
    "    bird.fly()\n",
    "\n",
    "par = parrot()\n",
    "peng = penguin()\n",
    "\n",
    "flying_test(par)   #it will automatically run parrot method\n",
    "flying_test(peng)  #it will automatically run peng method"
   ]
  },
  {
   "cell_type": "code",
   "execution_count": null,
   "metadata": {},
   "outputs": [],
   "source": []
  }
 ],
 "metadata": {
  "kernelspec": {
   "display_name": "base",
   "language": "python",
   "name": "python3"
  },
  "language_info": {
   "codemirror_mode": {
    "name": "ipython",
    "version": 3
   },
   "file_extension": ".py",
   "mimetype": "text/x-python",
   "name": "python",
   "nbconvert_exporter": "python",
   "pygments_lexer": "ipython3",
   "version": "3.11.3"
  },
  "orig_nbformat": 4
 },
 "nbformat": 4,
 "nbformat_minor": 2
}
