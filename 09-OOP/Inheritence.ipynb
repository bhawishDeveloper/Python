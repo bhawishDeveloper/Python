{
 "cells": [
  {
   "cell_type": "markdown",
   "metadata": {},
   "source": [
    "# Inheritence"
   ]
  },
  {
   "cell_type": "code",
   "execution_count": 4,
   "metadata": {},
   "outputs": [],
   "source": [
    "# Single Inheritence, \n",
    "# class A:,  class B(A): \n",
    "# Multi level Inheritence\n",
    "# class A, class B(A):  ,  class C(B): , \n",
    "# Hierarchical Inheritence\n",
    "# class A:, class B(A): , class C(A):  ,\n",
    "# Multiple Inheritence\n",
    "# class A: ,  class B:,  class C(A,B),  \n",
    "# Hybrid Inheritence"
   ]
  },
  {
   "cell_type": "code",
   "execution_count": 2,
   "metadata": {},
   "outputs": [
    {
     "name": "stdout",
     "output_type": "stream",
     "text": [
      "Buddy says Woof!\n",
      "Whiskers says Meow!\n"
     ]
    }
   ],
   "source": [
    "# Parent class (superclass)\n",
    "class Animal:\n",
    "    def __init__(self, name):\n",
    "        self.name = name   #parent class variable\n",
    "    def speak(self):\n",
    "        pass\n",
    "\n",
    "# Child class (subclass) inheriting from Animal\n",
    "class Dog(Animal):\n",
    "    def speak(self):\n",
    "        return f\"{self.name} says Woof!\"\n",
    "\n",
    "class Cat(Animal):        ## Child class (subclass) inheriting from Animal\n",
    "    def speak(self):\n",
    "        return f\"{self.name} says Meow!\"\n",
    "\n",
    "# Create instances of the child classes\n",
    "dog = Dog(\"Buddy\")\n",
    "cat = Cat(\"Whiskers\")\n",
    "\n",
    "# Call the speak method on the child class instances\n",
    "print(dog.speak())  \n",
    "print(cat.speak()) \n"
   ]
  },
  {
   "cell_type": "code",
   "execution_count": 5,
   "metadata": {},
   "outputs": [
    {
     "name": "stdout",
     "output_type": "stream",
     "text": [
      "Name:  Raj\n",
      "Áge:  26\n",
      "Roll No:  101\n",
      "Marks:  98\n"
     ]
    }
   ],
   "source": [
    "#  Example of Single Inheritence\n",
    "class person:\n",
    "    def __init__(self, name,age):\n",
    "        self.name = name \n",
    "        self.age = age \n",
    "    def display(self):\n",
    "        print('Name: ', self.name)\n",
    "        print('Áge: ', self.age)\n",
    "\n",
    "class std(person):\n",
    "    def __init__(self, name, age, rollno, marks):\n",
    "        super().__init__(name, age)\n",
    "        self.rollno = rollno\n",
    "        self.marks = marks\n",
    "    def display(self):\n",
    "        super().display()\n",
    "        print('Roll No: ', self.rollno)\n",
    "        print('Marks: ', self.marks)\n",
    "\n",
    "s1 = std('Raj', 26, 101, 98)\n",
    "s1.display()"
   ]
  },
  {
   "cell_type": "code",
   "execution_count": null,
   "metadata": {},
   "outputs": [],
   "source": []
  }
 ],
 "metadata": {
  "kernelspec": {
   "display_name": "base",
   "language": "python",
   "name": "python3"
  },
  "language_info": {
   "codemirror_mode": {
    "name": "ipython",
    "version": 3
   },
   "file_extension": ".py",
   "mimetype": "text/x-python",
   "name": "python",
   "nbconvert_exporter": "python",
   "pygments_lexer": "ipython3",
   "version": "3.11.3"
  },
  "orig_nbformat": 4
 },
 "nbformat": 4,
 "nbformat_minor": 2
}
