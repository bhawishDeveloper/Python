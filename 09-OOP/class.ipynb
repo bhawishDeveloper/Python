{
 "cells": [
  {
   "cell_type": "code",
   "execution_count": 1,
   "metadata": {},
   "outputs": [
    {
     "name": "stdout",
     "output_type": "stream",
     "text": [
      "this is student class\n"
     ]
    }
   ],
   "source": [
    "# class is blue print of object\n",
    "# class is used to represent properties (attributes), and actions (behaviors) of object\n",
    "class ex():\n",
    "    x = 'this is student class'\n",
    "obj = ex()\n",
    "print(obj.x)"
   ]
  },
  {
   "cell_type": "code",
   "execution_count": null,
   "metadata": {},
   "outputs": [],
   "source": [
    "# Three types of variables are allowed \n",
    "Instance variable   (object level variable)   within class outside method \n",
    "class/static variable     (class level variable)   static x = 5\n",
    "local variable      (method level variable)  within method "
   ]
  },
  {
   "cell_type": "code",
   "execution_count": 3,
   "metadata": {},
   "outputs": [],
   "source": [
    "# Three types of methods\n",
    "instance method \n",
    "class method \n",
    "static method"
   ]
  },
  {
   "cell_type": "code",
   "execution_count": 4,
   "metadata": {},
   "outputs": [],
   "source": [
    "# physical existence of class is nothing but Object. we can create any number of objects of single class\n",
    "# object = className()\n"
   ]
  },
  {
   "cell_type": "markdown",
   "metadata": {},
   "source": [
    "Reference variable"
   ]
  },
  {
   "cell_type": "code",
   "execution_count": null,
   "metadata": {},
   "outputs": [],
   "source": [
    "# Reference variable\n",
    "# by using reference var we access properties and methods\n",
    "# it is used to refer object\n"
   ]
  },
  {
   "cell_type": "markdown",
   "metadata": {},
   "source": [
    "Self Variable"
   ]
  },
  {
   "cell_type": "code",
   "execution_count": 6,
   "metadata": {},
   "outputs": [],
   "source": [
    "# default variable that always points to current object\n",
    "# by using SELF we can access instance variable and instance method \n",
    "# def __init__(self):\n",
    "# def method(self):"
   ]
  },
  {
   "cell_type": "markdown",
   "metadata": {},
   "source": [
    "Constructor"
   ]
  },
  {
   "cell_type": "code",
   "execution_count": null,
   "metadata": {},
   "outputs": [],
   "source": [
    "# constructors are used to declare and initialize the instance variables \n",
    "# name of constructor should be in __init__\n",
    "# constructors will be executed automatically as the object is created\n",
    "def __init__(self, name, marks):\n",
    "    self.name = name\n",
    "    self.marks = marks "
   ]
  },
  {
   "cell_type": "code",
   "execution_count": 8,
   "metadata": {},
   "outputs": [
    {
     "name": "stdout",
     "output_type": "stream",
     "text": [
      "Constructor Execution\n",
      "Constructor Execution\n",
      "Constructor Execution\n",
      "Method Execution\n"
     ]
    }
   ],
   "source": [
    "class test():\n",
    "    def __init__(self):\n",
    "        print('Constructor Execution')\n",
    "    def m1(self):\n",
    "        print('Method Execution')\n",
    "obj1 = test()\n",
    "o2 = test()\n",
    "o3 = test()\n",
    "\n",
    "obj1.m1()"
   ]
  },
  {
   "cell_type": "code",
   "execution_count": 11,
   "metadata": {},
   "outputs": [
    {
     "name": "stdout",
     "output_type": "stream",
     "text": [
      "Student Name: asim \n",
      " Roll No: 101 \n",
      " Marks: 98\n",
      "Student Name: raza \n",
      " Roll No: 102 \n",
      " Marks: 88\n"
     ]
    }
   ],
   "source": [
    "class std:\n",
    "    def __init__(self,x,y,z):\n",
    "        self.name = x\n",
    "        self.rollno = y\n",
    "        self.marks = z\n",
    "    def display(self):\n",
    "        print('Student Name: {} \\n Roll No: {} \\n Marks: {}'. format(self.name, self.rollno, self.marks))\n",
    "s1 = std('asim', 101, 98)\n",
    "s1.display()\n",
    "\n",
    "s2 = std('raza', 102, 88)\n",
    "s2.display()"
   ]
  },
  {
   "cell_type": "code",
   "execution_count": null,
   "metadata": {},
   "outputs": [],
   "source": []
  }
 ],
 "metadata": {
  "kernelspec": {
   "display_name": "base",
   "language": "python",
   "name": "python3"
  },
  "language_info": {
   "codemirror_mode": {
    "name": "ipython",
    "version": 3
   },
   "file_extension": ".py",
   "mimetype": "text/x-python",
   "name": "python",
   "nbconvert_exporter": "python",
   "pygments_lexer": "ipython3",
   "version": "3.11.3"
  },
  "orig_nbformat": 4
 },
 "nbformat": 4,
 "nbformat_minor": 2
}
