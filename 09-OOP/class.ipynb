{
 "cells": [
  {
   "cell_type": "code",
   "execution_count": 1,
   "metadata": {},
   "outputs": [
    {
     "name": "stdout",
     "output_type": "stream",
     "text": [
      "this is student class\n"
     ]
    }
   ],
   "source": [
    "# class is blue print of object\n",
    "# class is used to represent properties (attributes), and actions (behaviors) of object\n",
    "class ex():\n",
    "    x = 'this is student class'\n",
    "obj = ex()\n",
    "print(obj.x)"
   ]
  },
  {
   "cell_type": "code",
   "execution_count": null,
   "metadata": {},
   "outputs": [],
   "source": [
    "# Three types of variables are allowed \n",
    "Instance variable   (object level variable)   \n",
    "class/static variable     (class level variable)   static x = 5\n",
    "local variable      (method level variable)  within method \n",
    "reference variable"
   ]
  },
  {
   "cell_type": "code",
   "execution_count": 3,
   "metadata": {},
   "outputs": [],
   "source": [
    "# Three types of methods\n",
    "instance method \n",
    "class method \n",
    "static method"
   ]
  },
  {
   "cell_type": "code",
   "execution_count": 4,
   "metadata": {},
   "outputs": [],
   "source": [
    "# physical existence of class is nothing but Object. we can create any number of objects of single class\n",
    "# object = className()\n"
   ]
  },
  {
   "cell_type": "markdown",
   "metadata": {},
   "source": [
    "Reference variable"
   ]
  },
  {
   "cell_type": "code",
   "execution_count": null,
   "metadata": {},
   "outputs": [],
   "source": [
    "# Reference variable\n",
    "# by using reference var we access properties and methods\n",
    "# it is used to refer object\n"
   ]
  },
  {
   "cell_type": "markdown",
   "metadata": {},
   "source": [
    "Self Variable"
   ]
  },
  {
   "cell_type": "code",
   "execution_count": 6,
   "metadata": {},
   "outputs": [],
   "source": [
    "# default variable that always points to current object\n",
    "# by using SELF we can access instance variable and instance method \n",
    "# def __init__(self):\n",
    "# def method(self):"
   ]
  },
  {
   "cell_type": "markdown",
   "metadata": {},
   "source": [
    "Constructor"
   ]
  },
  {
   "cell_type": "code",
   "execution_count": null,
   "metadata": {},
   "outputs": [],
   "source": [
    "# constructors are used to declare and initialize the instance variables \n",
    "# name of constructor should be in __init__\n",
    "# constructors will be executed automatically as the object is created\n",
    "def __init__(self, name, marks):\n",
    "    self.name = name\n",
    "    self.marks = marks "
   ]
  },
  {
   "cell_type": "code",
   "execution_count": 8,
   "metadata": {},
   "outputs": [
    {
     "name": "stdout",
     "output_type": "stream",
     "text": [
      "Constructor Execution\n",
      "Constructor Execution\n",
      "Constructor Execution\n",
      "Method Execution\n"
     ]
    }
   ],
   "source": [
    "class test():\n",
    "    def __init__(self):\n",
    "        print('Constructor Execution')\n",
    "    def m1(self):\n",
    "        print('Method Execution')\n",
    "obj1 = test()\n",
    "o2 = test()\n",
    "o3 = test()\n",
    "\n",
    "obj1.m1()"
   ]
  },
  {
   "cell_type": "code",
   "execution_count": 11,
   "metadata": {},
   "outputs": [
    {
     "name": "stdout",
     "output_type": "stream",
     "text": [
      "Student Name: asim \n",
      " Roll No: 101 \n",
      " Marks: 98\n",
      "Student Name: raza \n",
      " Roll No: 102 \n",
      " Marks: 88\n"
     ]
    }
   ],
   "source": [
    "class std:\n",
    "    def __init__(self,x,y,z):\n",
    "        self.name = x\n",
    "        self.rollno = y\n",
    "        self.marks = z\n",
    "    def display(self):\n",
    "        print('Student Name: {} \\n Roll No: {} \\n Marks: {}'. format(self.name, self.rollno, self.marks))\n",
    "s1 = std('asim', 101, 98)\n",
    "s1.display()\n",
    "\n",
    "s2 = std('raza', 102, 88)\n",
    "s2.display()"
   ]
  },
  {
   "cell_type": "markdown",
   "metadata": {},
   "source": [
    "Instance variable"
   ]
  },
  {
   "cell_type": "code",
   "execution_count": null,
   "metadata": {},
   "outputs": [],
   "source": [
    "# Instance variables are object class variables\n",
    "# if the value of var varied from obj to obj then its instance var. \n",
    "# for every object a separate copy of variable will be created \n",
    "# we can declare it inside 1.instance method, 2.constructor and 3.outside of class using obj reference var\n",
    "# we can access instance var by using self in class and object outside class\n",
    "# obj level var defined in constructor, method and outside class"
   ]
  },
  {
   "cell_type": "code",
   "execution_count": 14,
   "metadata": {},
   "outputs": [
    {
     "name": "stdout",
     "output_type": "stream",
     "text": [
      "{'EmpNo': 101, 'EmpName': 'raj', 'EmpSalary': 10000000}\n"
     ]
    }
   ],
   "source": [
    "# instance variable Inside constructor\n",
    "class emp:\n",
    "    def __init__(self):\n",
    "        self.EmpNo = 101\n",
    "        self.EmpName = 'raj'\n",
    "        self.EmpSalary = 10000000\n",
    "e = emp()\n",
    "print(e.__dict__)"
   ]
  },
  {
   "cell_type": "code",
   "execution_count": 17,
   "metadata": {},
   "outputs": [
    {
     "name": "stdout",
     "output_type": "stream",
     "text": [
      "{'a': 10, 'b': 20, 'c': 30}\n"
     ]
    }
   ],
   "source": [
    "# Instance variable Inside instance method \n",
    "class test:\n",
    "    def __init__(self):\n",
    "        self.a = 10\n",
    "        self.b = 20\n",
    "    def m1(self):\n",
    "        self.c = 30\n",
    "t = test()\n",
    "t.m1()\n",
    "print(t.__dict__)"
   ]
  },
  {
   "cell_type": "code",
   "execution_count": 18,
   "metadata": {},
   "outputs": [
    {
     "name": "stdout",
     "output_type": "stream",
     "text": [
      "{'a': 10, 'b': 20, 'c': 30, 'd': 40}\n"
     ]
    }
   ],
   "source": [
    "# Outside of class using reference variable\n",
    "class test:\n",
    "    def __init__(self):\n",
    "        self.a = 10\n",
    "        self.b = 20\n",
    "    def m1(self):\n",
    "        self.c = 30\n",
    "t = test()\n",
    "t.m1()\n",
    "t.d = 40\n",
    "\n",
    "print(t.__dict__)"
   ]
  },
  {
   "cell_type": "code",
   "execution_count": 22,
   "metadata": {},
   "outputs": [
    {
     "name": "stdout",
     "output_type": "stream",
     "text": [
      "{'a': 10, 'b': 20, 'c': 30, 'd': 40}\n",
      "{'a': 10, 'b': 20, 'c': 30}\n",
      "{'a': 10, 'b': 20}\n",
      "{'a': 10, 'b': 20, 'c': 30, 'd': 40}\n"
     ]
    }
   ],
   "source": [
    "# How to delete instance variable\n",
    "# del self.instanceVariable\n",
    "# del obj1.instanceVariable\n",
    "# deleted from one object will not be deleted from other object\n",
    "class test:\n",
    "    def __init__(self):\n",
    "        self.a = 10\n",
    "        self.b = 20\n",
    "        self.c = 30\n",
    "        self.d = 40\n",
    "    def m1(self):\n",
    "        del self.d \n",
    "t = test()\n",
    "t1 = test()\n",
    "\n",
    "print(t.__dict__)\n",
    "\n",
    "t.m1()\n",
    "print(t.__dict__)\n",
    "\n",
    "del t.c\n",
    "print(t.__dict__)\n",
    "\n",
    "# d variable is not deleted from t1 object\n",
    "print(t1.__dict__) "
   ]
  },
  {
   "cell_type": "markdown",
   "metadata": {},
   "source": [
    "Static Variable"
   ]
  },
  {
   "cell_type": "code",
   "execution_count": 23,
   "metadata": {},
   "outputs": [],
   "source": [
    "# variable that do not vary from obj to obj \n",
    "# var that are declared outside method but within class\n",
    "# only one copy of object will be created and shared with all objects\n",
    "# we can access it by using class name and object but recommended by class name\n"
   ]
  },
  {
   "cell_type": "code",
   "execution_count": 28,
   "metadata": {},
   "outputs": [
    {
     "name": "stdout",
     "output_type": "stream",
     "text": [
      "Before Update\n",
      "t1 =  99 t2 =  88\n",
      "t2 =  99 t2 =  88\n",
      "\n",
      "After Update\n",
      "t1 =  20 t2 =  10\n",
      "t2 =  20 t2 =  88\n"
     ]
    }
   ],
   "source": [
    "# Instance VS Static variable\n",
    "class test:\n",
    "    x = 99\n",
    "    def __init__(self):\n",
    "        self.y = 88\n",
    "t1 = test()\n",
    "t2 = test()\n",
    "\n",
    "print('Before Update')\n",
    "print('t1 = ', t1.x, 't2 = ', t1.y)\n",
    "print('t2 = ', t2.x,  't2 = ', t2.y)\n",
    "\n",
    "t1.y = 10   #this will only be updated for t1 object \n",
    "test.x = 20   #update with the help of class name\n",
    "print('\\nAfter Update')\n",
    "print('t1 = ', t1.x, 't2 = ', t1.y)\n",
    "print('t2 = ', t2.x,  't2 = ', t2.y)"
   ]
  },
  {
   "cell_type": "code",
   "execution_count": null,
   "metadata": {},
   "outputs": [],
   "source": []
  }
 ],
 "metadata": {
  "kernelspec": {
   "display_name": "base",
   "language": "python",
   "name": "python3"
  },
  "language_info": {
   "codemirror_mode": {
    "name": "ipython",
    "version": 3
   },
   "file_extension": ".py",
   "mimetype": "text/x-python",
   "name": "python",
   "nbconvert_exporter": "python",
   "pygments_lexer": "ipython3",
   "version": "3.11.3"
  },
  "orig_nbformat": 4
 },
 "nbformat": 4,
 "nbformat_minor": 2
}
