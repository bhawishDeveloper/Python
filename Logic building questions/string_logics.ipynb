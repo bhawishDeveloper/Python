{
 "cells": [
  {
   "cell_type": "code",
   "execution_count": 1,
   "metadata": {},
   "outputs": [
    {
     "name": "stdout",
     "output_type": "stream",
     "text": [
      "I love python\n",
      "nohtyp evol I"
     ]
    }
   ],
   "source": [
    "# Write a program to access each character of string in fwd and bwd direction \n",
    "s = 'I love python'\n",
    "n = len(s)\n",
    "i = 0\n",
    "while i < n:\n",
    "    print(s[i],end='')\n",
    "    i+=1\n",
    "print()\n",
    "i = -1\n",
    "while i >= -n:\n",
    "    print(s[i],end='')\n",
    "    i-=1"
   ]
  },
  {
   "cell_type": "code",
   "execution_count": 2,
   "metadata": {},
   "outputs": [
    {
     "name": "stdout",
     "output_type": "stream",
     "text": [
      "I love python\n",
      "I love python\n",
      "nohtyp evol I"
     ]
    }
   ],
   "source": [
    "# Using for loop\n",
    "s = 'I love python'\n",
    "for i in s:\n",
    "    print(i, end='')\n",
    "print()\n",
    "for i in s[::]:\n",
    "    print(i, end='')\n",
    "print()\n",
    "for i in s[::-1]:\n",
    "    print(i,end='')"
   ]
  },
  {
   "cell_type": "code",
   "execution_count": 3,
   "metadata": {},
   "outputs": [
    {
     "name": "stdout",
     "output_type": "stream",
     "text": [
      "4\n"
     ]
    }
   ],
   "source": [
    "s = 'I love python'\n",
    "print(s.find('ve'))"
   ]
  },
  {
   "cell_type": "code",
   "execution_count": 4,
   "metadata": {},
   "outputs": [
    {
     "name": "stdout",
     "output_type": "stream",
     "text": [
      "nohtyp evol I\n"
     ]
    }
   ],
   "source": [
    "# Write a program to reverse the string\n",
    "s = 'I love python'\n",
    "print(s[::-1])"
   ]
  },
  {
   "cell_type": "code",
   "execution_count": 5,
   "metadata": {},
   "outputs": [
    {
     "name": "stdout",
     "output_type": "stream",
     "text": [
      "nohtyp evol I\n"
     ]
    }
   ],
   "source": [
    "print(''.join(reversed(s)))"
   ]
  },
  {
   "cell_type": "code",
   "execution_count": 6,
   "metadata": {},
   "outputs": [
    {
     "name": "stdout",
     "output_type": "stream",
     "text": [
      "nohtyp evol I\n"
     ]
    }
   ],
   "source": [
    "s = 'I love python'\n",
    "i = len(s)-1\n",
    "rstr = ''\n",
    "while i >=0:\n",
    "    rstr = rstr + s[i]\n",
    "    i = i - 1\n",
    "print(rstr)"
   ]
  },
  {
   "cell_type": "code",
   "execution_count": 7,
   "metadata": {},
   "outputs": [
    {
     "name": "stdout",
     "output_type": "stream",
     "text": [
      "python love I\n"
     ]
    }
   ],
   "source": [
    "# Program to reverse order of words\n",
    "s = 'I love python'\n",
    "l = s.split()\n",
    "l1 = []\n",
    "i = len(l)-1\n",
    "\n",
    "while i >= 0:\n",
    "    l1.append(l[i])\n",
    "    i =i-1\n",
    "out = ' '.join(l1)\n",
    "print(out)"
   ]
  },
  {
   "cell_type": "code",
   "execution_count": 8,
   "metadata": {},
   "outputs": [
    {
     "name": "stdout",
     "output_type": "stream",
     "text": [
      "['I', 'evol', 'nohtyp']\n"
     ]
    }
   ],
   "source": [
    "# program to reverse internal content of each word\n",
    "s = 'I love python'\n",
    "l = s.split()\n",
    "l1=[]\n",
    "i = 0\n",
    "while i < len(l):\n",
    "    l1.append(l[i][::-1])\n",
    "    i+=1\n",
    "print(l1)"
   ]
  },
  {
   "cell_type": "code",
   "execution_count": 9,
   "metadata": {},
   "outputs": [
    {
     "name": "stdout",
     "output_type": "stream",
     "text": [
      "Characters on even index are:  Ilv yhn\n",
      "Characters on odd index are:   oepto\n"
     ]
    }
   ],
   "source": [
    "# program to print characters at odd and even position\n",
    "s = 'I love python'\n",
    "print(\"Characters on even index are: \",s[0::2])\n",
    "print(\"Characters on odd index are: \",s[1::2])"
   ]
  },
  {
   "cell_type": "code",
   "execution_count": 10,
   "metadata": {},
   "outputs": [
    {
     "name": "stdout",
     "output_type": "stream",
     "text": [
      "II  lhoavtee  PAyntahcoonnda\n"
     ]
    }
   ],
   "source": [
    "# program to merge characters of two strings alternatively\n",
    "s = \"I love Python\"\n",
    "s1 = \"I hate Anaconda\"\n",
    "i,j = 0,0\n",
    "out = ''\n",
    "while i < len(s) or j < len(s1):\n",
    "    if i < len(s):\n",
    "        out = out + s[i]\n",
    "        i+=1\n",
    "    if j < len(s1):\n",
    "        out = out + s1[j]\n",
    "        j+=1\n",
    "print(out)"
   ]
  },
  {
   "cell_type": "code",
   "execution_count": null,
   "metadata": {},
   "outputs": [],
   "source": [
    "# write a program to sort the characters of string and first alphabet folled by numeric\n",
    "B4A1D3\n",
    "ABD123"
   ]
  },
  {
   "cell_type": "code",
   "execution_count": 11,
   "metadata": {},
   "outputs": [
    {
     "name": "stdout",
     "output_type": "stream",
     "text": [
      "ABD134\n"
     ]
    }
   ],
   "source": [
    "# s = input(\"Enter alphanumeric string: \")\n",
    "s = 'B4A1D3'\n",
    "i=  0\n",
    "num, alpha, out = '','',''\n",
    "while i < len(s):\n",
    "    if s[i].isalpha():\n",
    "        alpha = alpha + s[i]\n",
    "        i+=1\n",
    "    if s[i].isdigit():\n",
    "        num = num + s[i]\n",
    "        i+=1\n",
    "\n",
    "for i in sorted(alpha):\n",
    "    out = out + i\n",
    "for i in sorted(num):\n",
    "    out = out + i\n",
    "print(out)"
   ]
  },
  {
   "cell_type": "code",
   "execution_count": null,
   "metadata": {},
   "outputs": [],
   "source": [
    "input = a4b3c2\n",
    "output = aaaabbbcc"
   ]
  },
  {
   "cell_type": "code",
   "execution_count": 12,
   "metadata": {},
   "outputs": [
    {
     "name": "stdout",
     "output_type": "stream",
     "text": [
      "aaaabbbcc\n"
     ]
    }
   ],
   "source": [
    "s = 'a4b3c2'\n",
    "i=  0\n",
    "prev, alpha, out = '','',''\n",
    "while i < len(s):\n",
    "    if s[i].isalpha():\n",
    "        out = out + s[i]\n",
    "        prev = s[i]\n",
    "        i+=1\n",
    "    if s[i].isdigit():\n",
    "        out = out+(prev*(int(s[i])-1))\n",
    "        i+=1\n",
    "print(out)"
   ]
  },
  {
   "cell_type": "code",
   "execution_count": null,
   "metadata": {},
   "outputs": [],
   "source": [
    "inp = a4k3b2\n",
    "out = aeknbd"
   ]
  },
  {
   "cell_type": "code",
   "execution_count": 13,
   "metadata": {},
   "outputs": [
    {
     "name": "stdout",
     "output_type": "stream",
     "text": [
      "aeknbd\n"
     ]
    }
   ],
   "source": [
    "s = 'a4k3b2'\n",
    "out,prev = '',''\n",
    "for i in s:\n",
    "    if i.isalpha():\n",
    "        prev = i\n",
    "        out = out + i\n",
    "    else:\n",
    "        out = out + chr(ord(prev)+int(i))\n",
    "print(out)"
   ]
  },
  {
   "cell_type": "code",
   "execution_count": 14,
   "metadata": {},
   "outputs": [
    {
     "name": "stdout",
     "output_type": "stream",
     "text": [
      "['a', 'd', 'e', 'f', 'g', 'h', 'j', 'r', 's', 't', 'y', 'z']\n"
     ]
    }
   ],
   "source": [
    "# write a program to remove duplicates\n",
    "inp = 'aaaggggeeeerrrtyyyyzghjjjsdfteryrt'\n",
    "out = ''\n",
    "for i in inp:\n",
    "    if i not in out:\n",
    "        out = out+i\n",
    "print(sorted(out))"
   ]
  },
  {
   "cell_type": "code",
   "execution_count": 15,
   "metadata": {},
   "outputs": [
    {
     "name": "stdout",
     "output_type": "stream",
     "text": [
      "a occurs 3 times\n",
      "e occurs 4 times\n",
      "i occurs 1 times\n",
      "o occurs 4 times\n",
      "u occurs 4 times\n"
     ]
    }
   ],
   "source": [
    "s = 'I love python and i am a python developeruuuu'\n",
    "v = ['a', 'e', 'i', 'o', 'u']\n",
    "d = {}\n",
    "for ch in s:\n",
    "    if ch in v:\n",
    "        d[ch] = d.get(ch,0)+1\n",
    "for k,v in sorted(d.items()):\n",
    "    print('{} occurs {} times'.format(k,v))"
   ]
  },
  {
   "cell_type": "code",
   "execution_count": 16,
   "metadata": {},
   "outputs": [
    {
     "name": "stdout",
     "output_type": "stream",
     "text": [
      "Strings are anogram\n"
     ]
    }
   ],
   "source": [
    "# program to check given strings are anograms or not\n",
    "s1 = input('Enter first string: ')\n",
    "s2 = input('Enter second string: ')\n",
    "if(sorted(s1) == sorted(s2)):\n",
    "    print('Strings are anogram')\n",
    "else:\n",
    "    print('Strings are not anogram')"
   ]
  },
  {
   "cell_type": "code",
   "execution_count": 17,
   "metadata": {},
   "outputs": [],
   "source": [
    "# Check given sring is palindrom or not\n",
    "str1 = input('Enter string to check palindrom: ')\n",
    "if str1[::] == str1[::-1]:\n",
    "    print('String is palindrom')"
   ]
  },
  {
   "cell_type": "code",
   "execution_count": null,
   "metadata": {},
   "outputs": [],
   "source": []
  }
 ],
 "metadata": {
  "kernelspec": {
   "display_name": "base",
   "language": "python",
   "name": "python3"
  },
  "language_info": {
   "codemirror_mode": {
    "name": "ipython",
    "version": 3
   },
   "file_extension": ".py",
   "mimetype": "text/x-python",
   "name": "python",
   "nbconvert_exporter": "python",
   "pygments_lexer": "ipython3",
   "version": "3.11.3"
  },
  "orig_nbformat": 4
 },
 "nbformat": 4,
 "nbformat_minor": 2
}
